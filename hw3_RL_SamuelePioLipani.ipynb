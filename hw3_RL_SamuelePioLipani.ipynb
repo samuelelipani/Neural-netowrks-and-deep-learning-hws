{
 "cells": [
  {
   "cell_type": "markdown",
   "metadata": {},
   "source": [
    "## NEURAL NETWORKS AND DEEP LEARNING A.A. 2021/22"
   ]
  },
  {
   "cell_type": "markdown",
   "metadata": {},
   "source": [
    "### Samuele Pio Lipani 2025168"
   ]
  },
  {
   "cell_type": "markdown",
   "metadata": {},
   "source": [
    "### Homework 3 - Reinforcement Learning"
   ]
  },
  {
   "cell_type": "markdown",
   "metadata": {},
   "source": [
    "#### Cartpole Game "
   ]
  },
  {
   "cell_type": "code",
   "execution_count": 1,
   "metadata": {
    "id": "a7EkHQ0VsNnJ"
   },
   "outputs": [],
   "source": [
    "import random\n",
    "import numpy as np\n",
    "import glob\n",
    "import io\n",
    "import base64\n",
    "import os\n",
    "from tqdm.notebook import tqdm\n",
    "from IPython.display import HTML\n",
    "from IPython import display as ipythondisplay\n",
    "from gym.wrappers import Monitor\n",
    "import matplotlib.pyplot as plt\n",
    "import plotly.express as px\n",
    "from torch import nn\n",
    "import torch\n",
    "from collections import deque, namedtuple \n",
    "import gym"
   ]
  },
  {
   "cell_type": "markdown",
   "metadata": {
    "id": "wA_0gAmJfFlT"
   },
   "source": [
    "# Experience replay (Replay Memory)"
   ]
  },
  {
   "cell_type": "code",
   "execution_count": 2,
   "metadata": {
    "id": "1axKWEBl8uik"
   },
   "outputs": [],
   "source": [
    "class ReplayMemory(object):\n",
    "\n",
    "    def __init__(self, capacity):\n",
    "        self.memory = deque(maxlen=capacity) # Define a queue with maxlen \"capacity\"\n",
    "\n",
    "    def push(self, state, action, next_state, reward):\n",
    "        self.memory.append( (state, action, next_state, reward) ) # Add the tuple (state, action, next_state, reward) to the queue\n",
    "\n",
    "    def sample(self, batch_size):\n",
    "        batch_size = min(batch_size, len(self)) # Get all the samples if the requested batch_size is higher than the number of sample currently in the memory\n",
    "        return random.sample(self.memory, batch_size) # Randomly select \"batch_size\" samples\n",
    "\n",
    "    def __len__(self):\n",
    "        return len(self.memory) # Return the number of samples currently stored in the memory"
   ]
  },
  {
   "cell_type": "markdown",
   "metadata": {
    "id": "Y-nBdx6KfKNE"
   },
   "source": [
    "# Policy network"
   ]
  },
  {
   "cell_type": "markdown",
   "metadata": {
    "id": "vt2uYYCSrL8q"
   },
   "source": [
    "The policy network takes a state as input, and provides the Q-value for each of the possible actions.\n",
    "\n",
    "Let's define a simple generic fully-connected feed forward network with `state_space_dim` inputs and `action_space_dim` outputs (e.g. 2 hidden layers with 64 neurons each). \n",
    "\n",
    "Be sure to keep a linear output activation."
   ]
  },
  {
   "cell_type": "markdown",
   "metadata": {
    "id": "-rdsRx6wfZw1"
   },
   "source": [
    "## Network definition"
   ]
  },
  {
   "cell_type": "code",
   "execution_count": 3,
   "metadata": {
    "id": "W41rXekb8x7K"
   },
   "outputs": [],
   "source": [
    "class DQN(nn.Module):\n",
    "\n",
    "    def __init__(self, state_space_dim, action_space_dim):\n",
    "        super().__init__()\n",
    "\n",
    "        self.linear = nn.Sequential(\n",
    "                nn.Linear(state_space_dim, 128),\n",
    "                nn.Tanh(),\n",
    "                nn.Linear(128, 128),\n",
    "                nn.Tanh(),\n",
    "                nn.Linear(128, action_space_dim)\n",
    "                )\n",
    "\n",
    "    def forward(self, x):\n",
    "        return self.linear(x)"
   ]
  },
  {
   "cell_type": "code",
   "execution_count": 4,
   "metadata": {
    "id": "tLPAsTT4gpeW"
   },
   "outputs": [],
   "source": [
    "# Define an example network\n",
    "net = DQN(state_space_dim=4, action_space_dim=2)"
   ]
  },
  {
   "cell_type": "markdown",
   "metadata": {
    "id": "ynfEXqjGfbpl"
   },
   "source": [
    "## Exploration Policy"
   ]
  },
  {
   "cell_type": "markdown",
   "metadata": {
    "id": "b1Hs7GrEw5FW"
   },
   "source": [
    "Starting from the estimated Q-values, we need to choose the proper action. This action may be the one expected to provide the highest long term reward (exploitation), or maybe we want to find a better policy by choosing a different action (exploration).\n",
    "\n",
    "The exploration policy controls this behavior, typically by varying a single parameter.\n",
    "\n",
    "Since our Q-values estimates are far from the true values at the beginning of the training, a high exploration is preferred in the initial phase.\n",
    "\n",
    "The steps are:\n",
    "\n",
    "`Current state -> Policy network -> Q-values -> Exploration Policy -> Action`"
   ]
  },
  {
   "cell_type": "markdown",
   "metadata": {
    "id": "3x-kRJbQfqBR"
   },
   "source": [
    "### Epsilon-greedy policy\n"
   ]
  },
  {
   "cell_type": "markdown",
   "metadata": {
    "id": "RFVPF0aMy3be"
   },
   "source": [
    "With an epsilon-greedy policy we choose a **non optimal** action with probability epsilon, otherwise choose the best action (the one corresponding to the highest Q-value)."
   ]
  },
  {
   "cell_type": "code",
   "execution_count": 5,
   "metadata": {
    "id": "ZXfh_Ub1fv4c"
   },
   "outputs": [],
   "source": [
    "def choose_action_epsilon_greedy(net, state, epsilon):\n",
    "    \n",
    "    if epsilon > 1 or epsilon < 0:\n",
    "        raise Exception('The epsilon value must be between 0 and 1')\n",
    "                \n",
    "    # Evaluate the network output from the current state\n",
    "    with torch.no_grad():\n",
    "        net.eval()\n",
    "        state = torch.tensor(state, dtype=torch.float32) # Convert the state to tensor\n",
    "        net_out = net(state)\n",
    "\n",
    "    # Get the best action (argmax of the network output)\n",
    "    best_action = int(net_out.argmax())\n",
    "    # Get the number of possible actions\n",
    "    action_space_dim = net_out.shape[-1]\n",
    "\n",
    "    # Select a non optimal action with probability epsilon, otherwise choose the best action\n",
    "    if random.random() < epsilon:\n",
    "        # List of non-optimal actions\n",
    "        non_optimal_actions = [a for a in range(action_space_dim) if a != best_action]\n",
    "        # Select randomly\n",
    "        action = random.choice(non_optimal_actions)\n",
    "    else:\n",
    "        # Select best action\n",
    "        action = best_action\n",
    "        \n",
    "    return action, net_out.cpu().numpy()"
   ]
  },
  {
   "cell_type": "code",
   "execution_count": 6,
   "metadata": {
    "id": "nklFJdMoiDVo"
   },
   "outputs": [
    {
     "name": "stdout",
     "output_type": "stream",
     "text": [
      "ACTION: 1\n",
      "Q-VALUES: [-0.18221912 -0.16208027]\n"
     ]
    }
   ],
   "source": [
    "# Test if it works as expected\n",
    "state = (0, 0, 0, 0)\n",
    "epsilon = 0.5\n",
    "chosen_action, q_values = choose_action_epsilon_greedy(net, state, epsilon)\n",
    "\n",
    "print(f\"ACTION: {chosen_action}\")\n",
    "print(f\"Q-VALUES: {q_values}\")"
   ]
  },
  {
   "cell_type": "markdown",
   "metadata": {
    "id": "Vvxi7b82f0g4"
   },
   "source": [
    "### Softmax policy"
   ]
  },
  {
   "cell_type": "markdown",
   "metadata": {
    "id": "8I0r6m-p1UQG"
   },
   "source": [
    "With a softmax policy we choose the action based on a distribution obtained applying a softmax (with temperature $\\tau$) to the estimated Q-values. The highest the temperature, the more the distribution will converge to a random uniform distribution. At zero temperature, instead, the policy will always choose the action with the highest Q-value."
   ]
  },
  {
   "cell_type": "code",
   "execution_count": 7,
   "metadata": {
    "id": "taW_cjBsf4sW"
   },
   "outputs": [],
   "source": [
    "def choose_action_softmax(net, state, temperature):\n",
    "    \n",
    "    if temperature < 0:\n",
    "        raise Exception('The temperature value must be greater than or equal to 0 ')\n",
    "        \n",
    "    # If the temperature is 0, just select the best action using the eps-greedy policy with epsilon = 0\n",
    "    if temperature == 0:\n",
    "        return choose_action_epsilon_greedy(net, state, 0)\n",
    "    \n",
    "    # Evaluate the network output from the current state\n",
    "    with torch.no_grad():\n",
    "        net.eval()\n",
    "        state = torch.tensor(state, dtype=torch.float32)\n",
    "        net_out = net(state)\n",
    "\n",
    "    # Apply softmax with temp\n",
    "    temperature = max(temperature, 1e-8) # set a minimum to the temperature for numerical stability\n",
    "    softmax_out = nn.functional.softmax(net_out / temperature, dim=0).numpy()\n",
    "                \n",
    "    # Sample the action using softmax output as mass pdf\n",
    "    all_possible_actions = np.arange(0, softmax_out.shape[-1])\n",
    "    action = np.random.choice(all_possible_actions, p=softmax_out) # this samples a random element from \"all_possible_actions\" with the probability distribution p (softmax_out in this case)\n",
    "    \n",
    "    return action, net_out.numpy()"
   ]
  },
  {
   "cell_type": "code",
   "execution_count": 8,
   "metadata": {
    "id": "CAIMqC5kldtB"
   },
   "outputs": [
    {
     "name": "stdout",
     "output_type": "stream",
     "text": [
      "ACTION: 1\n",
      "Q-VALUES: [-0.18221912 -0.16208027]\n"
     ]
    }
   ],
   "source": [
    "state = (0, 0, 0, 0)\n",
    "temperature = 1\n",
    "chosen_action, q_values = choose_action_softmax(net, state, temperature)\n",
    "\n",
    "print(f\"ACTION: {chosen_action}\")\n",
    "print(f\"Q-VALUES: {q_values}\")"
   ]
  },
  {
   "cell_type": "markdown",
   "metadata": {
    "id": "QMXhJfZcpqIA"
   },
   "source": [
    "### Exploration profile"
   ]
  },
  {
   "cell_type": "markdown",
   "metadata": {
    "id": "7rOvTpcbMPnR"
   },
   "source": [
    "Let's consider, for example, an exponentially decreasing exploration profile using a softmax policy.\n",
    "\n",
    "$$\n",
    "\\text{softmax\\_ temperature}  = \\text{initial\\_ temperature} \\cdot \\text{exp\\_ decay}^i \\qquad \\text{for $i$ = 1, 2, \\dots, num\\_ iterations } \n",
    "$$\n",
    "\n",
    "Alternatively, you can consider an epsilon greedy policy. In this case the exploration would be controlled by the epsilon parameter, for which you should consider a different initial value (max 1). "
   ]
  },
  {
   "cell_type": "code",
   "execution_count": 9,
   "metadata": {},
   "outputs": [],
   "source": [
    "def softmax_expl(num_iterations=1000, initial_value=5):\n",
    "    # We compute the exponential decay in such a way the shape of the exploration \n",
    "    # profile does not depend on the number of iterations\n",
    "    exp_decay = np.exp(-np.log(initial_value) / num_iterations * 6) \n",
    "    exploration_profile = np.array([initial_value * (exp_decay ** i) for i in range(num_iterations)])\n",
    "    \n",
    "    return exploration_profile\n",
    "\n",
    "def gaussian(x, mu = 0, sig = 1):\n",
    "    return np.exp(-np.power(x - mu, 2.) / (2 * np.power(sig, 2.)))"
   ]
  },
  {
   "cell_type": "code",
   "execution_count": 10,
   "metadata": {},
   "outputs": [
    {
     "data": {
      "image/png": "[encoded data removed]",
      "text/plain": [
       "<Figure size 864x576 with 1 Axes>"
      ]
     },
     "metadata": {
      "needs_background": "light"
     },
     "output_type": "display_data"
    }
   ],
   "source": [
    "### Define exploration profile\n",
    "initial_value = 5\n",
    "num_iterations = 1000\n",
    "exp_decay = np.exp(-np.log(initial_value) / num_iterations * 6) # We compute the exponential decay in such a way the shape of the exploration profile does not depend on the number of iterations\n",
    "exploration_profile = [initial_value * (exp_decay ** i) for i in range(num_iterations)]\n",
    "\n",
    "### Plot exploration profile\n",
    "plt.figure(figsize=(12,8))\n",
    "plt.plot(exploration_profile)\n",
    "plt.grid()\n",
    "plt.xlabel('Iteration')\n",
    "plt.ylabel('Exploration profile (Softmax temperature)');"
   ]
  },
  {
   "cell_type": "markdown",
   "metadata": {
    "id": "zjKmdFhowRbj"
   },
   "source": [
    "# Gym Environment (CartPole-v1)"
   ]
  },
  {
   "cell_type": "markdown",
   "metadata": {
    "id": "uC_cbOXjEJlb"
   },
   "source": [
    "A pole is attached by an un-actuated joint to a cart, which moves along a frictionless track. The system is controlled by applying a force of +1 or -1 to the cart. The pendulum starts upright, and the goal is to prevent it from falling over.\n",
    "\n",
    "https://gym.openai.com/envs/CartPole-v1/"
   ]
  },
  {
   "cell_type": "markdown",
   "metadata": {
    "id": "9FmV7DVqEikG"
   },
   "source": [
    "![image.png](data:image/png;base64,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)"
   ]
  },
  {
   "cell_type": "markdown",
   "metadata": {},
   "source": [
    "The observation space of the environment O and its action space A are described as follows:\n",
    "\n",
    "O = [Cart position, Cart velocity, Pole angle, Pole angular velocity] A = [ Move left, Move right ]\n",
    "\n",
    "The aim of the agent is to keep the pole balanced for as long as possible, but the trial is considered solved at 500 time steps. For each time step that the pole is balanced the agent gets +1 to the reward. \n",
    "\n",
    "In Q-learning the agent learns to associate a value to each state-action pair, which takes into account both the immediate reward for that action and the future rewards. In particular, an update step is defined as:\n",
    "\n",
    "$$\n",
    "Q(s_t,a_t) \\rightarrow Q(s_t,a_t) + \\lambda(r_t + \\gamma \\cdot max_a Q(s_t,a_t) - Q(s_t,a_t))\n",
    "$$\n",
    "\n",
    "where $s_t, a_t$ are the state and the action at time t, $\\lambda$ is the learning rate and $\\gamma$ the discount factor that takes into account how much future rewards matter. Notice that in the update which is the maximum Q value of the actions in the state at the next time step is taken into account. Given the Q-values we then need a policy, i.e. a way of selecting which action to perform. Softmax policy will be used, i.e. select which action to perform based on their Q-values. It is however important to explore the environment at the initial stages of the learning: if the best action is always selected when the full system is not known the network may be stuck in local minima. Softmax with temperature is implemented, setting an exploration profile, i.e. an evolution of the temperature T such that at the initial time we select random actions ($T > 1$) and towards the end of the simulation we select the best action ($T \\rightarrow 0$). In particular, an exponential decay for the exploration profile will be used.\n",
    "Gaussian addition will be randomly insert to the profile, to see their effect.\n",
    "A neural network is used then to calculate the Q-values. There are, however, some problems in this approach. The training dataset is built incrementally, the samples are not identically independently distributed and the target function is non-stationary. Therefore two workarounds are introduced:\n",
    "- A Replay memory. Store tuples of (state, action, reward, next state) in a memory buffer, such that in the training mini-batches can be sampled from this buffer and \"replay\" those states. This is really important, because there will be no longer forced need to use subsequent time step in the training, decreasing the correlation between samples.\n",
    "- A Target network. There won't be used the same network for evaluating $Q(s_t,a_t)$ and $Q(s_{t+1},a_{t})$ in the update rule. A target network instead will be used for the latter, which weights are updated from the first network, called policy network, each n episodes. This helps for the non-stationarity of the target function.\n",
    "\n",
    "For the optimization of the network stochastic gradient descent (SGD) is chosen, but without momentum. This is because, differently from other deep learning frameworks, in reinforcement learning it is possible that the optimization direction changes quickly, due to the dynamical nature of the problem.\n",
    "In the reward function it is added a linear penalty proportional to the distance from the center of the screen, due to a problematic behavior of the agent that tried to \"exit\" from the screen."
   ]
  },
  {
   "cell_type": "code",
   "execution_count": 11,
   "metadata": {
    "id": "Ar0yNaNrCnjn"
   },
   "outputs": [
    {
     "name": "stdout",
     "output_type": "stream",
     "text": [
      "STATE SPACE SIZE: 4\n",
      "ACTION SPACE SIZE: 2\n"
     ]
    }
   ],
   "source": [
    "### Create environment\n",
    "env = gym.make('CartPole-v1') # Initialize the Gym environment\n",
    "env.seed(1999) # Set a random seed for the environment (reproducible results)\n",
    "\n",
    "# Get the shapes of the state space (observation_space) and action space (action_space)\n",
    "state_space_dim = env.observation_space.shape[0]\n",
    "action_space_dim = env.action_space.n\n",
    "\n",
    "print(f\"STATE SPACE SIZE: {state_space_dim}\")\n",
    "print(f\"ACTION SPACE SIZE: {action_space_dim}\")"
   ]
  },
  {
   "cell_type": "markdown",
   "metadata": {},
   "source": [
    "##### Example "
   ]
  },
  {
   "cell_type": "code",
   "execution_count": 12,
   "metadata": {},
   "outputs": [
    {
     "name": "stderr",
     "output_type": "stream",
     "text": [
      "C:\\Users\\samue\\AppData\\Local\\Programs\\Python\\Python38\\lib\\site-packages\\pyglet\\image\\codecs\\wic.py:289: UserWarning: [WinError -2147417850] Impossibile cambiare la modalità del thread dopo averla impostata\n",
      "  warnings.warn(str(err))\n"
     ]
    },
    {
     "data": {
      "image/png": "[encoded data removed]",
      "text/plain": [
       "<Figure size 432x288 with 1 Axes>"
      ]
     },
     "metadata": {},
     "output_type": "display_data"
    }
   ],
   "source": [
    "# in order to get a step of the simulation it's possible to directly extract it from the gym env created \n",
    "\n",
    "env = gym.make('CartPole-v1') \n",
    "state = env.reset()\n",
    "# Images are 600x400 pixels\n",
    "s_shot = env.render(mode='rgb_array')\n",
    "s_shot = np.ascontiguousarray(s_shot, dtype=np.float32)/255.\n",
    "env.close()\n",
    "plt.imshow(s_shot)\n",
    "plt.yticks([]);\n",
    "plt.xticks([]);"
   ]
  },
  {
   "cell_type": "markdown",
   "metadata": {
    "id": "GR0X30SQwwC7"
   },
   "source": [
    "## Random agent"
   ]
  },
  {
   "cell_type": "markdown",
   "metadata": {
    "id": "eJP0ggFyOLLG"
   },
   "source": [
    "First of all, to check that the environment is working properly, let's try with an agent which simply choose an action randomly."
   ]
  },
  {
   "cell_type": "code",
   "execution_count": 13,
   "metadata": {
    "id": "2g4NatpgSpbc"
   },
   "outputs": [
    {
     "name": "stdout",
     "output_type": "stream",
     "text": [
      "EPISODE 1 - FINAL SCORE: 25.0\n",
      "EPISODE 2 - FINAL SCORE: 21.0\n",
      "EPISODE 3 - FINAL SCORE: 27.0\n",
      "EPISODE 4 - FINAL SCORE: 14.0\n",
      "EPISODE 5 - FINAL SCORE: 57.0\n",
      "EPISODE 6 - FINAL SCORE: 33.0\n",
      "EPISODE 7 - FINAL SCORE: 13.0\n",
      "EPISODE 8 - FINAL SCORE: 30.0\n",
      "EPISODE 9 - FINAL SCORE: 32.0\n",
      "EPISODE 10 - FINAL SCORE: 22.0\n"
     ]
    }
   ],
   "source": [
    "# Initialize the Gym environment\n",
    "env = gym.make('CartPole-v1') \n",
    "env.seed(1999) # Set a random seed for the environment (reproducible results)\n",
    "\n",
    "# Let's try for a total of 10 episodes\n",
    "for num_episode in range(10): \n",
    "    # Reset the environment and get the initial state\n",
    "    state = env.reset()\n",
    "    # Reset the score. The final score will be the total amount of steps before the pole falls\n",
    "    score = 0\n",
    "    done = False\n",
    "    # Go on until the pole falls off or the score reach 490\n",
    "    while not done and score < 490:\n",
    "      # Choose a random action\n",
    "      action = random.choice([0, 1])\n",
    "      # Apply the action and get the next state, the reward and a flag \"done\" that is True if the game is ended\n",
    "      next_state, reward, done, info = env.step(action)\n",
    "      # Visually render the environment (optional, comment this line to speed up the simulation)\n",
    "      env.render()\n",
    "      # Update the final score (+1 for each step)\n",
    "      score += reward \n",
    "      # Set the current state for the next iteration\n",
    "      state = next_state\n",
    "      # Check if the episode ended (the pole fell down)\n",
    "    # Print the final score\n",
    "    print(f\"EPISODE {num_episode + 1} - FINAL SCORE: {score}\") \n",
    "\n",
    "env.close()\n"
   ]
  },
  {
   "cell_type": "markdown",
   "metadata": {
    "id": "9KXpjzf2vdeL"
   },
   "source": [
    "# Network update"
   ]
  },
  {
   "cell_type": "markdown",
   "metadata": {
    "id": "LQUTrt8DzJXO"
   },
   "source": [
    "## Update function"
   ]
  },
  {
   "cell_type": "code",
   "execution_count": 14,
   "metadata": {
    "id": "Sj1hEvPOvkBX"
   },
   "outputs": [],
   "source": [
    "def update_step(policy_net, target_net, replay_mem, gamma, optimizer, loss_fn, batch_size):\n",
    "        \n",
    "    # Sample the data from the replay memory\n",
    "    batch = replay_mem.sample(batch_size)\n",
    "    batch_size = len(batch)\n",
    "\n",
    "    # Create tensors for each element of the batch\n",
    "    states  = torch.tensor([s[0] for s in batch], dtype=torch.float32)\n",
    "    actions = torch.tensor([s[1] for s in batch], dtype=torch.int64)\n",
    "    rewards = torch.tensor([s[3] for s in batch], dtype=torch.float32)\n",
    "\n",
    "    # Compute a mask of non-final states (all the elements where the next state is not None)\n",
    "    non_final_next_states = torch.tensor([s[2] for s in batch if s[2] is not None], dtype=torch.float32) # the next state can be None if the game has ended\n",
    "    non_final_mask = torch.tensor([s[2] is not None for s in batch], dtype=torch.bool)\n",
    "\n",
    "    # Compute all the Q values (forward pass)\n",
    "    policy_net.train()\n",
    "    q_values = policy_net(states)\n",
    "    # Select the proper Q value for the corresponding action taken Q(s_t, a)\n",
    "    state_action_values = q_values.gather(1, actions.unsqueeze(1))\n",
    "\n",
    "    # Compute the value function of the next states using the target network V(s_{t+1}) = max_a( Q_target(s_{t+1}, a)) )\n",
    "    with torch.no_grad():\n",
    "        target_net.eval()\n",
    "        q_values_target = target_net(non_final_next_states)\n",
    "    next_state_max_q_values = torch.zeros(batch_size)\n",
    "    next_state_max_q_values[non_final_mask] = q_values_target.max(dim=1)[0]\n",
    "\n",
    "    # Compute the expected Q values\n",
    "    expected_state_action_values = rewards + (next_state_max_q_values * gamma)\n",
    "    expected_state_action_values = expected_state_action_values.unsqueeze(1) # Set the required tensor shape\n",
    "\n",
    "    # Compute the Huber loss\n",
    "    loss = loss_fn(state_action_values, expected_state_action_values)\n",
    "\n",
    "    # Optimize the model\n",
    "    optimizer.zero_grad()\n",
    "    loss.backward()\n",
    "    # Apply gradient clipping (clip all the gradients greater than 2 for training stability)\n",
    "    nn.utils.clip_grad_norm_(policy_net.parameters(), 2)\n",
    "    optimizer.step()"
   ]
  },
  {
   "cell_type": "markdown",
   "metadata": {
    "id": "03Ab0RMB5CCC"
   },
   "source": [
    "## Training loop"
   ]
  },
  {
   "cell_type": "code",
   "execution_count": 15,
   "metadata": {
    "id": "WF6Zf53FoRDZ",
    "scrolled": true
   },
   "outputs": [],
   "source": [
    "def training_loop(policy_net, target_net, replay_mem, exploration_profile, params, verbose=False):\n",
    "    # Initialize the Gym environment\n",
    "    env = gym.make('CartPole-v1') \n",
    "    env.seed(1999) # Set a random seed for the environment (reproducible results)\n",
    "\n",
    "    training_score = []\n",
    "\n",
    "    for episode_num, tau in enumerate(tqdm(exploration_profile)):\n",
    "\n",
    "        # Reset the environment and get the initial state\n",
    "        state = env.reset()\n",
    "        # Reset the score. The final score will be the total amount of steps before the pole falls\n",
    "        score = 0\n",
    "        done = False\n",
    "\n",
    "        # Go on until the pole falls off\n",
    "        while not done:\n",
    "\n",
    "            # Choose the action following the policy\n",
    "            action, q_values = choose_action_softmax(policy_net, state, temperature=tau)\n",
    "\n",
    "            # Apply the action and get the next state, the reward and a flag \"done\" that is True if the game is ended\n",
    "            next_state, reward, done, info = env.step(action)\n",
    "\n",
    "            # We apply a (linear) penalty when the cart is far from center\n",
    "            pos_weight = 1\n",
    "            reward = reward - pos_weight * np.abs(state[0]) \n",
    "\n",
    "            # Update the final score (+1 for each step)\n",
    "            score += 1\n",
    "\n",
    "            # Apply penalty for bad state\n",
    "            if done: # if the pole has fallen down \n",
    "                reward += params['bad_state_penalty']\n",
    "                next_state = None\n",
    "\n",
    "            # Update the replay memory\n",
    "            replay_mem.push(state, action, next_state, reward)\n",
    "\n",
    "            # Update the network\n",
    "            if len(replay_mem) > min_samples_for_training: # we enable the training only if we have enough samples in the replay memory, otherwise the training will use the same samples too often\n",
    "                update_step(policy_net, target_net, replay_mem, params['gamma'], optimizer, loss_fn, params['batch_size'])\n",
    "\n",
    "            # Visually render the environment (disable to speed up the training)\n",
    "            if episode_num % 100 == 0:\n",
    "                env.render()\n",
    "\n",
    "            # Set the current state for the next iteration\n",
    "            state = next_state\n",
    "\n",
    "        # Update the target network every target_net_update_steps episodes\n",
    "        if episode_num % params['target_net_update_steps'] == 0:\n",
    "            if verbose: print('Updating target network...')\n",
    "            target_net.load_state_dict(policy_net.state_dict()) # This will copy the weights of the policy network to the target network\n",
    "\n",
    "        # Print the final score\n",
    "        if verbose: print(f\"EPISODE: {episode_num + 1} - FINAL SCORE: {score} - Temperature: {tau}\") # Print the final score\n",
    "        training_score.append(score)\n",
    "    env.close()\n",
    "    \n",
    "    return policy_net, training_score"
   ]
  },
  {
   "cell_type": "markdown",
   "metadata": {
    "id": "NZ3P9MKjxCAL"
   },
   "source": [
    "## Initialization"
   ]
  },
  {
   "cell_type": "code",
   "execution_count": 16,
   "metadata": {},
   "outputs": [],
   "source": [
    "def initialize(params, replay_memory_capacity=10000, state_space_dim=4, action_space_dim=2):\n",
    "    ### Initialize the replay memory\n",
    "    replay_mem = ReplayMemory(replay_memory_capacity)    \n",
    "\n",
    "    ### Initialize the policy network\n",
    "    policy_net = DQN(state_space_dim, action_space_dim)\n",
    "\n",
    "    ### Initialize the target network with the same weights of the policy network\n",
    "    target_net = DQN(state_space_dim, action_space_dim)\n",
    "    target_net.load_state_dict(policy_net.state_dict()) # This will copy the weights of the policy network to the target network\n",
    "\n",
    "    ### Initialize the optimizer\n",
    "    optimizer = torch.optim.SGD(policy_net.parameters(), lr=params['lr']) # The optimizer will update ONLY the parameters of the policy network\n",
    "\n",
    "    ### Initialize the loss function (Huber loss)\n",
    "    loss_fn = nn.SmoothL1Loss()\n",
    "    \n",
    "    return replay_mem, policy_net, target_net, optimizer, loss_fn\n"
   ]
  },
  {
   "cell_type": "markdown",
   "metadata": {
    "id": "Y7gSKTn-ymDZ"
   },
   "source": [
    "In this case we will use the Huber loss as loss function (https://pytorch.org/docs/stable/generated/torch.nn.SmoothL1Loss.html). The Huber loss uses a squared term if the absolute element-wise error falls below beta and an L1 term otherwise. It is less sensitive to outliers than the MSELoss and in some cases prevents exploding gradients."
   ]
  },
  {
   "cell_type": "code",
   "execution_count": 17,
   "metadata": {},
   "outputs": [],
   "source": [
    "explorations = []\n",
    "\n",
    "for i in range(10):\n",
    "    exp = softmax_expl(initial_value=np.random.randint(3, 7))\n",
    "    N = len(exp)\n",
    "    if np.random.rand() < 0.7:\n",
    "        j = np.random.randint(0, 9)\n",
    "        g = gaussian(np.linspace(-3, 3, 100))\n",
    "        exp[j* (N//10): (j+1)*(N//10)] += g\n",
    "        \n",
    "        if np.random.rand() < 0.7:\n",
    "            j = np.random.randint(0, 9)\n",
    "            exp[j* (N//10): (j+1)*(N//10)] += gaussian(np.linspace(-3, 3, 100))\n",
    "    explorations.append(exp)"
   ]
  },
  {
   "cell_type": "code",
   "execution_count": null,
   "metadata": {},
   "outputs": [],
   "source": [
    "params_tot = []\n",
    "tr_score_tot = []\n",
    "expl_prof_tot = []\n",
    "\n",
    "gamma = np.linspace(0.9, 0.99, 10)\n",
    "lr = np.logspace(-3, -1, 10)\n",
    "batch_size = [32, 64, 128, 256]\n",
    "target_up_steps = np.arange(5, 25, 5, dtype=int)\n",
    "\n",
    "for i in range(10):\n",
    "    \n",
    "    ### Set exploration profile\n",
    "    exploration_profile = explorations[ np.random.randint(0, 10)]\n",
    "    \n",
    "    ### PARAMETERS\n",
    "    params = {}\n",
    "    params['gamma'] = np.random.choice(gamma)   \n",
    "    replay_memory_capacity = 10000   \n",
    "    params['lr'] = np.random.choice(lr)   \n",
    "    params['target_net_update_steps'] = np.random.choice(target_up_steps)   \n",
    "    params['batch_size'] = np.random.choice(batch_size)  \n",
    "    params['bad_state_penalty'] = 0   \n",
    "    min_samples_for_training = 1000   \n",
    "\n",
    "    # Initialization\n",
    "    replay_mem, policy_net, target_net, optimizer, loss_fn = initialize(params)\n",
    "    \n",
    "    # Training\n",
    "    policy_net, training_score = training_loop(policy_net, target_net, replay_mem, exploration_profile, \n",
    "                                                params, verbose=False)\n",
    "    \n",
    "    params_tot.append(params)\n",
    "    tr_score_tot.append(training_score)\n",
    "    expl_prof_tot.append(exploration_profile)"
   ]
  },
  {
   "cell_type": "markdown",
   "metadata": {},
   "source": [
    "## Parameters optimization\n",
    "- the exploration profile, of which the starting temperature will be changed. As cited before, gaussian increment of temperature at random position is added in the profile with probability $p = 0.3$, to understand its effect on the optimization. The exploration profile will be made of 1000 points;\n",
    "- the discount rate $\\gamma$;\n",
    "- the target update time n;\n",
    "- the learning rate $\\lambda$;\n",
    "- the mini-batch size."
   ]
  },
  {
   "cell_type": "markdown",
   "metadata": {},
   "source": [
    "# Results\n",
    "The best set of parameters is the one that achieves the less time to reach 490 of score:"
   ]
  },
  {
   "cell_type": "code",
   "execution_count": 40,
   "metadata": {},
   "outputs": [],
   "source": [
    "for i in range(10):\n",
    "    temp = np.argwhere(np.array(tr_score_tot[i]) >= 490)\n",
    "    if len(temp)>0:\n",
    "        params_tot[i]['first_solved'] = temp[0][0]\n",
    "    else:\n",
    "        params_tot[i]['first_solved'] = 1000\n",
    "    \n",
    "def best_set(params):\n",
    "    \"\"\"\n",
    "    the function returns both the index of the best set of parameters and the best set itself. The index is useful \n",
    "    for plotting the best correspondant tr_score\n",
    "    \"\"\"\n",
    "    # iterating over the values of the list of dictionaries \n",
    "    dummy = [dic['first_solved'] for dic in params_tot]\n",
    "    idx = np.argmin(dummy)\n",
    "    return idx, params_tot[idx]"
   ]
  },
  {
   "cell_type": "markdown",
   "metadata": {},
   "source": [
    "let's see however the overall behaviors of the ten models through a dataframe "
   ]
  },
  {
   "cell_type": "code",
   "execution_count": 42,
   "metadata": {},
   "outputs": [
    {
     "data": {
      "text/html": [
       "<div>\n",
       "<style scoped>\n",
       "    .dataframe tbody tr th:only-of-type {\n",
       "        vertical-align: middle;\n",
       "    }\n",
       "\n",
       "    .dataframe tbody tr th {\n",
       "        vertical-align: top;\n",
       "    }\n",
       "\n",
       "    .dataframe thead th {\n",
       "        text-align: right;\n",
       "    }\n",
       "</style>\n",
       "<table border=\"1\" class=\"dataframe\">\n",
       "  <thead>\n",
       "    <tr style=\"text-align: right;\">\n",
       "      <th></th>\n",
       "      <th>gamma</th>\n",
       "      <th>lr</th>\n",
       "      <th>target_net_update_steps</th>\n",
       "      <th>batch_size</th>\n",
       "      <th>bad_state_penalty</th>\n",
       "      <th>first_solved</th>\n",
       "    </tr>\n",
       "  </thead>\n",
       "  <tbody>\n",
       "    <tr>\n",
       "      <th>0</th>\n",
       "      <td>0.96</td>\n",
       "      <td>0.001000</td>\n",
       "      <td>10</td>\n",
       "      <td>64</td>\n",
       "      <td>0</td>\n",
       "      <td>858</td>\n",
       "    </tr>\n",
       "    <tr>\n",
       "      <th>1</th>\n",
       "      <td>0.95</td>\n",
       "      <td>0.021544</td>\n",
       "      <td>10</td>\n",
       "      <td>64</td>\n",
       "      <td>0</td>\n",
       "      <td>748</td>\n",
       "    </tr>\n",
       "    <tr>\n",
       "      <th>2</th>\n",
       "      <td>0.93</td>\n",
       "      <td>0.100000</td>\n",
       "      <td>10</td>\n",
       "      <td>32</td>\n",
       "      <td>0</td>\n",
       "      <td>1000</td>\n",
       "    </tr>\n",
       "    <tr>\n",
       "      <th>3</th>\n",
       "      <td>0.90</td>\n",
       "      <td>0.012915</td>\n",
       "      <td>20</td>\n",
       "      <td>256</td>\n",
       "      <td>0</td>\n",
       "      <td>1000</td>\n",
       "    </tr>\n",
       "    <tr>\n",
       "      <th>4</th>\n",
       "      <td>0.98</td>\n",
       "      <td>0.100000</td>\n",
       "      <td>5</td>\n",
       "      <td>64</td>\n",
       "      <td>0</td>\n",
       "      <td>302</td>\n",
       "    </tr>\n",
       "    <tr>\n",
       "      <th>5</th>\n",
       "      <td>0.99</td>\n",
       "      <td>0.059948</td>\n",
       "      <td>15</td>\n",
       "      <td>256</td>\n",
       "      <td>0</td>\n",
       "      <td>513</td>\n",
       "    </tr>\n",
       "    <tr>\n",
       "      <th>6</th>\n",
       "      <td>0.94</td>\n",
       "      <td>0.007743</td>\n",
       "      <td>10</td>\n",
       "      <td>32</td>\n",
       "      <td>0</td>\n",
       "      <td>1000</td>\n",
       "    </tr>\n",
       "    <tr>\n",
       "      <th>7</th>\n",
       "      <td>0.92</td>\n",
       "      <td>0.002783</td>\n",
       "      <td>5</td>\n",
       "      <td>128</td>\n",
       "      <td>0</td>\n",
       "      <td>1000</td>\n",
       "    </tr>\n",
       "    <tr>\n",
       "      <th>8</th>\n",
       "      <td>0.98</td>\n",
       "      <td>0.004642</td>\n",
       "      <td>20</td>\n",
       "      <td>128</td>\n",
       "      <td>0</td>\n",
       "      <td>967</td>\n",
       "    </tr>\n",
       "    <tr>\n",
       "      <th>9</th>\n",
       "      <td>0.98</td>\n",
       "      <td>0.007743</td>\n",
       "      <td>5</td>\n",
       "      <td>128</td>\n",
       "      <td>0</td>\n",
       "      <td>415</td>\n",
       "    </tr>\n",
       "  </tbody>\n",
       "</table>\n",
       "</div>"
      ],
      "text/plain": [
       "   gamma        lr  target_net_update_steps  batch_size  bad_state_penalty  \\\n",
       "0   0.96  0.001000                       10          64                  0   \n",
       "1   0.95  0.021544                       10          64                  0   \n",
       "2   0.93  0.100000                       10          32                  0   \n",
       "3   0.90  0.012915                       20         256                  0   \n",
       "4   0.98  0.100000                        5          64                  0   \n",
       "5   0.99  0.059948                       15         256                  0   \n",
       "6   0.94  0.007743                       10          32                  0   \n",
       "7   0.92  0.002783                        5         128                  0   \n",
       "8   0.98  0.004642                       20         128                  0   \n",
       "9   0.98  0.007743                        5         128                  0   \n",
       "\n",
       "   first_solved  \n",
       "0           858  \n",
       "1           748  \n",
       "2          1000  \n",
       "3          1000  \n",
       "4           302  \n",
       "5           513  \n",
       "6          1000  \n",
       "7          1000  \n",
       "8           967  \n",
       "9           415  "
      ]
     },
     "execution_count": 42,
     "metadata": {},
     "output_type": "execute_result"
    }
   ],
   "source": [
    "import pandas as pd\n",
    "pd.DataFrame(params_tot)"
   ]
  },
  {
   "cell_type": "markdown",
   "metadata": {},
   "source": [
    "The performances of the algorithm are strongly dependent on the hyperparameters. The hyperparameter search is depicted in the dataframe, where the first_solved axis is defined as the first time at which the agent performs at least 490 points. If the agent is not able to solve the environment then we assign a first_solved value of 1000. The best performing agents have mostly a high learning rate $\\lambda$, a high discount rate $\\gamma$ and a frequent update of the target network."
   ]
  },
  {
   "cell_type": "markdown",
   "metadata": {},
   "source": [
    "# Plotting results\n",
    "\n",
    "To better understand the evolution of the training and the effect of the exploration profile let's plot the exploration profile and the training score, i.e. the score along all the points of the exploration. The training score oscillates a lot along the evolution. The figure shows clearly that, when the hyperparameter set is optimal, the score abruptly increases as soon as the temperature approaches zero, i.e. when the agent starts to choose the best action. This means that the learning is really fast. A bad choice can instead damage the learning so much that the agent is never able to solve the environment."
   ]
  },
  {
   "cell_type": "code",
   "execution_count": 43,
   "metadata": {},
   "outputs": [
    {
     "data": {
      "image/png": "[encoded data removed]",
      "text/plain": [
       "<Figure size 720x576 with 1 Axes>"
      ]
     },
     "metadata": {
      "needs_background": "light"
     },
     "output_type": "display_data"
    }
   ],
   "source": [
    "num_epochs = np.arange(1000)\n",
    "\n",
    "plt.figure(figsize=(10,8))\n",
    "plt.plot(num_epochs, tr_score_tot[best_set(params)[0]], \"teal\")\n",
    "plt.plot(num_epochs, np.array(expl_prof_tot[best_set(params)[0]])*100, \"lime\")\n",
    "plt.ylabel('Score', size = 13)\n",
    "plt.xlabel('Epochs', size = 13)\n",
    "plt.grid()\n",
    "plt.legend(['Score','Temperature $\\cdot$ 100'], loc =\"upper left\")\n",
    "plt.show()"
   ]
  },
  {
   "cell_type": "markdown",
   "metadata": {
    "id": "JkG9iDZTIhzc"
   },
   "source": [
    "# Final test"
   ]
  },
  {
   "cell_type": "code",
   "execution_count": 44,
   "metadata": {
    "scrolled": true
   },
   "outputs": [
    {
     "data": {
      "application/vnd.jupyter.widget-view+json": {
       "model_id": "f32715d4400c4d46a9f9859b287f77c1",
       "version_major": 2,
       "version_minor": 0
      },
      "text/plain": [
       "  0%|          | 0/1000 [00:00<?, ?it/s]"
      ]
     },
     "metadata": {},
     "output_type": "display_data"
    }
   ],
   "source": [
    "# Initialization\n",
    "replay_mem, policy_net, target_net, optimizer, loss_fn = initialize(params_tot[best_set(params)[0]])\n",
    "\n",
    "# Training\n",
    "policy_net, training_score = training_loop(policy_net, target_net, replay_mem, exploration_profile, \n",
    "                                            params_tot[best_set(params)[0]], verbose=False)"
   ]
  },
  {
   "cell_type": "code",
   "execution_count": 45,
   "metadata": {},
   "outputs": [],
   "source": [
    "torch.save(policy_net.state_dict(), 'perfect_cartpole')"
   ]
  },
  {
   "cell_type": "markdown",
   "metadata": {},
   "source": [
    "Let's see if actually the reached score of the best model game is the maximum for a ten total number of episodes"
   ]
  },
  {
   "cell_type": "code",
   "execution_count": 46,
   "metadata": {
    "id": "vJKgnu3_IjWE"
   },
   "outputs": [
    {
     "name": "stdout",
     "output_type": "stream",
     "text": [
      "EPISODE 1 - FINAL SCORE: 500.0\n",
      "EPISODE 2 - FINAL SCORE: 500.0\n",
      "EPISODE 3 - FINAL SCORE: 500.0\n",
      "EPISODE 4 - FINAL SCORE: 500.0\n",
      "EPISODE 5 - FINAL SCORE: 500.0\n",
      "EPISODE 6 - FINAL SCORE: 500.0\n",
      "EPISODE 7 - FINAL SCORE: 500.0\n",
      "EPISODE 8 - FINAL SCORE: 500.0\n",
      "EPISODE 9 - FINAL SCORE: 500.0\n",
      "EPISODE 10 - FINAL SCORE: 500.0\n"
     ]
    }
   ],
   "source": [
    "# Initialize the Gym environment\n",
    "env = gym.make('CartPole-v1') \n",
    "env.seed(1) # Set a random seed for the environment (reproducible results)\n",
    "\n",
    "# Let's try for a total of 10 episodes\n",
    "for num_episode in range(10): \n",
    "    # Reset the environment and get the initial state\n",
    "    state = env.reset()\n",
    "    # Reset the score. The final score will be the total amount of steps before the pole falls\n",
    "    score = 0\n",
    "    done = False\n",
    "    # Go on until the pole falls off or the score reach 490\n",
    "    while not done:\n",
    "      # Choose the best action (temperature 0)\n",
    "      action, q_values = choose_action_softmax(policy_net, state, temperature=0)\n",
    "      # Apply the action and get the next state, the reward and a flag \"done\" that is True if the game is ended\n",
    "      next_state, reward, done, info = env.step(action)\n",
    "      # Visually render the environment\n",
    "      env.render()\n",
    "      # Update the final score (+1 for each step)\n",
    "      score += reward \n",
    "      # Set the current state for the next iteration\n",
    "      state = next_state\n",
    "      # Check if the episode ended (the pole fell down)\n",
    "    # Print the final score\n",
    "    print(f\"EPISODE {num_episode + 1} - FINAL SCORE: {score}\") \n",
    "env.close()"
   ]
  },
  {
   "cell_type": "markdown",
   "metadata": {},
   "source": [
    "# Acrobot game gym environment \n",
    "Acrobot is a game, in which a robotic arm is composed of two joints and two links and the joint between the two links is actued. In the beginning, the links are hanging downwards. The goal of the task is to move the end of the lower link up to a given height.\n",
    "\n",
    "When the robotic arm chooses and performs an action, it may receive a reward or not. In each time step, it receives -1 as punishment until the goal is reached. Then, the agent’s task is to understand which actions can maximize the cumulative reward. There are three possible actions:\n",
    "\n",
    "- Apply positive torque (+1)\n",
    "- Apply negative torque (-1)\n",
    "- Do nothing (0)\n",
    "\n",
    "The environment imposes 500-time steps for each episode if the agent doesn’t reach its goal before. Then, the worst cumulative reward is -500."
   ]
  },
  {
   "cell_type": "markdown",
   "metadata": {
    "id": "_pxfaY4b17y2"
   },
   "source": [
    "## Instantiate environment"
   ]
  },
  {
   "cell_type": "code",
   "execution_count": 2,
   "metadata": {},
   "outputs": [
    {
     "name": "stdout",
     "output_type": "stream",
     "text": [
      "Discrete(3)\n",
      "Box([ -1.        -1.        -1.        -1.       -12.566371 -28.274334], [ 1.        1.        1.        1.       12.566371 28.274334], (6,), float32)\n",
      "STATE SPACE SIZE: 6\n",
      "ACTION SPACE SIZE: 3\n"
     ]
    }
   ],
   "source": [
    "env = gym.make('Acrobot-v1')\n",
    "env.seed(0)\n",
    "\n",
    "print(env.action_space)\n",
    "print(env.observation_space)\n",
    "# Get the shapes of the state space (observation_space) and action space (action_space)\n",
    "state_space_dim = env.observation_space.shape[0]\n",
    "action_space_dim = env.action_space.n\n",
    "\n",
    "print(f\"STATE SPACE SIZE: {state_space_dim}\")\n",
    "print(f\"ACTION SPACE SIZE: {action_space_dim}\")"
   ]
  },
  {
   "cell_type": "markdown",
   "metadata": {},
   "source": [
    "The action space is discrete, so the action can be one of these non-negative numbers: [0,1,2]. Differently from the action space, the observation space is Box, which represents an n-dimensional box. Then, each observation will be an array of 6 numbers with a range between -28 and 28."
   ]
  },
  {
   "cell_type": "markdown",
   "metadata": {
    "id": "FfQacjqI2Aqu"
   },
   "source": [
    "## Random Agent\n",
    "This is an example of running an agent which simply chooses an action randomly. The Acrobot environment will run for 10 episodes, showing the video of the game at each step."
   ]
  },
  {
   "cell_type": "code",
   "execution_count": 3,
   "metadata": {},
   "outputs": [
    {
     "name": "stdout",
     "output_type": "stream",
     "text": [
      "EPISODE 1 - FINAL SCORE: -500.0\n",
      "EPISODE 2 - FINAL SCORE: -500.0\n",
      "EPISODE 3 - FINAL SCORE: -500.0\n",
      "EPISODE 4 - FINAL SCORE: -500.0\n",
      "EPISODE 5 - FINAL SCORE: -500.0\n",
      "EPISODE 6 - FINAL SCORE: -500.0\n",
      "EPISODE 7 - FINAL SCORE: -500.0\n",
      "EPISODE 8 - FINAL SCORE: -500.0\n",
      "EPISODE 9 - FINAL SCORE: -500.0\n",
      "EPISODE 10 - FINAL SCORE: -500.0\n"
     ]
    }
   ],
   "source": [
    "for num_episode in range(10): \n",
    "    # Reset the environment and get the initial state\n",
    "    state = env.reset()\n",
    "    # Reset the score. The final score will be the total amount of steps before the pole falls\n",
    "    score = 0\n",
    "    done = False\n",
    "    # Go on until the pole falls off or the score reach 490\n",
    "    while not done and score > -500:\n",
    "      # Choose a random action\n",
    "      action = random.choice([0, 1, 2])\n",
    "      # Apply the action and get the next state, the reward and a flag \"done\" that is True if the game is ended\n",
    "      next_state, reward, done, info = env.step(action)\n",
    "      # Visually render the environment (optional, comment this line to speed up the simulation)\n",
    "      env.render()\n",
    "      # Update the final score (-1 for each step)\n",
    "      score += reward \n",
    "      # Set the current state for the next iteration\n",
    "      state = next_state\n",
    "      # Check if the episode ended (the pole fell down)\n",
    "    # Print the final score\n",
    "    print(f\"EPISODE {num_episode + 1} - FINAL SCORE: {score}\") "
   ]
  },
  {
   "cell_type": "markdown",
   "metadata": {},
   "source": [
    "## DQN\n",
    "The model is a neural network that takes as input the dimension of the state space and returns the optimal q-value corresponding to each possible action. Since there are three possible actions to move the robotic arm, the number of outputs returned are 3."
   ]
  },
  {
   "cell_type": "markdown",
   "metadata": {},
   "source": [
    "Once defined the network, let's create a class called ReplayMemory. The neural networks may be unstable or diverge when the correlation is present in the sequence of observations. For this reason, there is also the need for the Experience Replay, which enables agents to remember and learn from experiences in the past. Moreover, it randomizes over the data, thereby it provides uncorrelated data.\n",
    "To perform experience replay, agent’s experiences are stored $e_t$=(state, action, next state, reward) at each time step t in a dataset $D_t=\\{e_1, \\dots ,e_t \\}.$ During learning, Q-learning updates are applied, on samples (or mini-batches) of experience $(s,a,r,s’)\\sim U(D)$, drawn uniformly at random from the pool of stored samples.\n",
    "In practice, a queue with a predefined capacity is needed. When the maximum capacity is reached, the oldest element in the queue will be replaced with the new one. This behaviour can be reached using the deque object from the python collections library."
   ]
  },
  {
   "cell_type": "code",
   "execution_count": 4,
   "metadata": {},
   "outputs": [],
   "source": [
    "class ReplayMemory(object):\n",
    "\n",
    "    def __init__(self, capacity):\n",
    "        # Define a queue with maxlen \"capacity\"\n",
    "        self.memory = deque(maxlen=capacity)\n",
    "\n",
    "    def push(self, state, action, next_state, reward):\n",
    "        # Add the tuple (state, action, next_state, reward) to the queue\n",
    "        self.memory.append((state, action, next_state, reward))\n",
    "\n",
    "    def sample(self, batch_size):\n",
    "        batch_size = min(batch_size, len(self)) # Get all the samples if the requested batch_size is higher than the number of sample currently in the memory\n",
    "        # Randomly select \"batch_size\" samples and return the selection\n",
    "        return random.sample(self.memory,batch_size)\n",
    "\n",
    "    def __len__(self):\n",
    "        return len(self.memory) # Return the number of samples currently stored in the memory\n",
    "\n",
    "class DQN(nn.Module):\n",
    "\n",
    "    def __init__(self, state_space_dim, action_space_dim):\n",
    "        super().__init__()\n",
    "\n",
    "        self.linear = nn.Sequential(\n",
    "                  nn.Linear(state_space_dim,64),\n",
    "                  nn.ReLU(),\n",
    "                  nn.Linear(64,64*2),\n",
    "                  nn.ReLU(),\n",
    "                  nn.Linear(64*2,action_space_dim)\n",
    "                )\n",
    "\n",
    "    def forward(self, x):\n",
    "        x = x.to(device)\n",
    "        return self.linear(x)\n",
    "\n",
    "def choose_action_epsilon_greedy(net, state, epsilon):\n",
    "    \n",
    "    if epsilon > 1 or epsilon < 0:\n",
    "        raise Exception('The epsilon value must be between 0 and 1')\n",
    "                \n",
    "    # Evaluate the network output from the current state\n",
    "    with torch.no_grad():\n",
    "        net.eval()\n",
    "        state = torch.tensor(state, dtype=torch.float32) # Convert the state to tensor\n",
    "        net_out = net(state)\n",
    "\n",
    "    # Get the best action (argmax of the network output)\n",
    "    best_action = int(net_out.argmax())\n",
    "    # Get the number of possible actions\n",
    "    action_space_dim = net_out.shape[-1]\n",
    "\n",
    "    # Select a non optimal action with probability epsilon, otherwise choose the best action\n",
    "    if random.random() < epsilon:\n",
    "        # List of non-optimal actions (this list includes all the actions but the optimal one)\n",
    "        non_optimal_actions = [a for a in range(action_space_dim) if a != best_action]\n",
    "        # Select randomly from non_optimal_actions\n",
    "        action = random.choice(non_optimal_actions)\n",
    "    else:\n",
    "        # Select best action\n",
    "        action = best_action\n",
    "        \n",
    "    return action, net_out.cpu().numpy()\n",
    "\n",
    "def choose_action_softmax(net, state, temperature):\n",
    "    \n",
    "    if temperature < 0:\n",
    "        raise Exception('The temperature value must be greater than or equal to 0 ')\n",
    "        \n",
    "    # If the temperature is 0, just select the best action using the eps-greedy policy with epsilon = 0\n",
    "    if temperature == 0:\n",
    "        return choose_action_epsilon_greedy(net, state, 0)\n",
    "    \n",
    "    # Evaluate the network output from the current state\n",
    "    with torch.no_grad():\n",
    "        net.eval()\n",
    "        state = torch.tensor(state, dtype=torch.float32)\n",
    "        net_out = net(state)\n",
    "\n",
    "    # Apply softmax with temp\n",
    "    temperature = max(temperature, 1e-8) # set a minimum to the temperature for numerical stability\n",
    "    softmax_out = nn.functional.softmax(net_out/temperature, dim=0).cpu().numpy()\n",
    "                \n",
    "    # Sample the action using softmax output as mass pdf\n",
    "    all_possible_actions = np.arange(0, softmax_out.shape[-1])\n",
    "    # this samples a random element from \"all_possible_actions\" with the probability distribution p (softmax_out in this case)\n",
    "    action = np.random.choice(all_possible_actions,p=softmax_out)\n",
    "    \n",
    "    return action, net_out.cpu().numpy()"
   ]
  },
  {
   "cell_type": "markdown",
   "metadata": {},
   "source": [
    "After performing the experience replay, the next step is to select and perform an action according to the epsilon-greedy policy. This policy chooses a random action with probability epsilon, otherwise choose the best action corresponding to the highest Q-value. The main idea is that the agent explores the environment rather than exploiting it at the beginning. The more the agent learns from the environment, the more it will choose the optimal actions, based on exploitation.\n",
    "\n",
    "The Softmax policy is used to choose the optimal action, based on a distribution obtained applying a softmax to the estimated Q-values, given the temperature parameter. There are two possible cases:\n",
    "- the higher the temperature, the more the distribution will converge to a random uniform distribution.\n",
    "- At zero temperature, the policy will always choose the action with the highest Q-value."
   ]
  },
  {
   "cell_type": "markdown",
   "metadata": {},
   "source": [
    "An exponentially decreasing exploration profile using a softmax policy is defined: \n",
    "$$\n",
    "\\text{softmax\\_ temperature} = \\text{initial\\_ temperature} \\cdot \\text{exponential\\_ decay}^{i}\n",
    "$$"
   ]
  },
  {
   "cell_type": "code",
   "execution_count": 5,
   "metadata": {
    "colab": {
     "base_uri": "https://localhost:8080/",
     "height": 514
    },
    "id": "ECIlUI_C2bTX",
    "outputId": "9c01842f-52b2-4d43-b72e-4852b95afedd"
   },
   "outputs": [
    {
     "data": {
      "image/png": "[encoded data removed]",
      "text/plain": [
       "<Figure size 864x576 with 1 Axes>"
      ]
     },
     "metadata": {
      "needs_background": "light"
     },
     "output_type": "display_data"
    }
   ],
   "source": [
    "### Define exploration profile\n",
    "initial_value = 5\n",
    "num_iterations = 800\n",
    "exp_decay = np.exp(-np.log(initial_value) / num_iterations * 6) # We compute the exponential decay in such a way the shape of the exploration profile does not depend on the number of iterations\n",
    "exploration_profile = [initial_value * (exp_decay ** i) for i in range(num_iterations)]\n",
    "\n",
    "### Plot exploration profile\n",
    "plt.figure(figsize=(12,8))\n",
    "plt.plot(exploration_profile)\n",
    "plt.grid()\n",
    "plt.xlabel('Iteration');\n",
    "plt.ylabel('Exploration profile (Softmax temperature)');"
   ]
  },
  {
   "cell_type": "code",
   "execution_count": 6,
   "metadata": {
    "colab": {
     "base_uri": "https://localhost:8080/"
    },
    "id": "qJIadq352dbg",
    "outputId": "a9d8dc59-9836-4195-b996-a80314ce1414"
   },
   "outputs": [
    {
     "name": "stdout",
     "output_type": "stream",
     "text": [
      "STATE SPACE SIZE: 6\n",
      "ACTION SPACE SIZE: 3\n"
     ]
    }
   ],
   "source": [
    "### Create environment\n",
    "env = gym.make('Acrobot-v1') # Initialize the Gym environment\n",
    "env.seed(0) # Set a random seed for the environment (reproducible results)\n",
    "\n",
    "# Get the shapes of the state space (observation_space) and action space (action_space)\n",
    "state_space_dim = env.observation_space.shape[0]\n",
    "action_space_dim = env.action_space.n\n",
    "device = torch.device(\"cuda\" if torch.cuda.is_available() else \"cpu\")\n",
    "\n",
    "print(f\"STATE SPACE SIZE: {state_space_dim}\")\n",
    "print(f\"ACTION SPACE SIZE: {action_space_dim}\")"
   ]
  },
  {
   "cell_type": "markdown",
   "metadata": {},
   "source": [
    "Let's initialize hyperparameters, like the SGD optimizer and the Huber loss function, the ReplayMemory object, the policy network and the target network."
   ]
  },
  {
   "cell_type": "code",
   "execution_count": 7,
   "metadata": {
    "id": "y4SHxNOi2e2x"
   },
   "outputs": [],
   "source": [
    "# Set random seeds\n",
    "torch.manual_seed(1999)\n",
    "np.random.seed(1999)\n",
    "\n",
    "### PARAMETERS\n",
    "gamma = 0.99   # gamma parameter for the long term reward\n",
    "replay_memory_capacity = 10000   # Replay memory capacity\n",
    "#lr = 1e-2   # Optimizer learning rate\n",
    "#lr = 1e-4\n",
    "lr = 1e-3\n",
    "target_net_update_steps = 10   # Number of episodes to wait before updating the target network\n",
    "batch_size = 256   # Number of samples to take from the replay memory for each update\n",
    "bad_state_penalty = 0   # Penalty to the reward when we are in a bad state (in this case when the pole falls down) \n",
    "min_samples_for_training = 1000   # Minimum samples in the replay memory to enable the training"
   ]
  },
  {
   "cell_type": "code",
   "execution_count": 8,
   "metadata": {
    "id": "lbS0lFhc2gcv"
   },
   "outputs": [],
   "source": [
    "### Initialize the replay memory\n",
    "replay_mem = ReplayMemory(replay_memory_capacity)    \n",
    "\n",
    "### Initialize the policy network\n",
    "policy_net = DQN(state_space_dim, action_space_dim).to(device)\n",
    "\n",
    "### Initialize the target network with the same weights of the policy network\n",
    "target_net = DQN(state_space_dim, action_space_dim).to(device)\n",
    "target_net.load_state_dict(policy_net.state_dict()) # This will copy the weights of the policy network to the target network\n",
    "\n",
    "### Initialize the optimizer\n",
    "optimizer = torch.optim.Adam(policy_net.parameters(), lr=lr) # The optimizer will update ONLY the parameters of the policy network\n",
    "\n",
    "### Initialize the loss function (Huber loss)\n",
    "loss_fn = nn.SmoothL1Loss()"
   ]
  },
  {
   "cell_type": "code",
   "execution_count": 9,
   "metadata": {
    "id": "eiTUGZVL2iBP"
   },
   "outputs": [],
   "source": [
    "def update_step(policy_net, target_net, replay_mem, gamma, optimizer, loss_fn, batch_size):\n",
    "        \n",
    "    # Sample the data from the replay memory\n",
    "    batch = replay_mem.sample(batch_size)\n",
    "    batch_size = len(batch)\n",
    "\n",
    "    # Create tensors for each element of the batch\n",
    "    states      = torch.tensor([s[0] for s in batch], dtype=torch.float32, device=device)\n",
    "    actions     = torch.tensor([s[1] for s in batch], dtype=torch.int64, device=device)\n",
    "    rewards     = torch.tensor([s[3] for s in batch], dtype=torch.float32, device=device)\n",
    "\n",
    "    # Compute a mask of non-final states (all the elements where the next state is not None)\n",
    "    non_final_next_states = torch.tensor([s[2] for s in batch if s[2] is not None], dtype=torch.float32, device=device) # the next state can be None if the game has ended\n",
    "    non_final_mask = torch.tensor([s[2] is not None for s in batch], dtype=torch.bool)\n",
    "\n",
    "    # Compute all the Q values (forward pass)\n",
    "    policy_net.train()\n",
    "    q_values = policy_net(states)\n",
    "    # Select the proper Q value for the corresponding action taken Q(s_t, a)\n",
    "    state_action_values = q_values.gather(1, actions.unsqueeze(1).cuda())\n",
    "\n",
    "    # Compute the value function of the next states using the target network V(s_{t+1}) = max_a( Q_target(s_{t+1}, a)) )\n",
    "    with torch.no_grad():\n",
    "      target_net.eval()\n",
    "      q_values_target = target_net(non_final_next_states)\n",
    "    next_state_max_q_values = torch.zeros(batch_size, device=device)\n",
    "    next_state_max_q_values[non_final_mask] = q_values_target.max(dim=1)[0].detach()\n",
    "\n",
    "    # Compute the expected Q values\n",
    "    expected_state_action_values = rewards + (next_state_max_q_values * gamma)\n",
    "    expected_state_action_values = expected_state_action_values.unsqueeze(1)# Set the required tensor shape\n",
    "\n",
    "    # Compute the Huber loss\n",
    "    loss = loss_fn(state_action_values, expected_state_action_values)\n",
    "\n",
    "    # Optimize the model\n",
    "    optimizer.zero_grad()\n",
    "    loss.backward()\n",
    "    # Apply gradient clipping (clip all the gradients greater than 2 for training stability)\n",
    "    nn.utils.clip_grad_norm_(policy_net.parameters(), 2)\n",
    "    optimizer.step()"
   ]
  },
  {
   "cell_type": "markdown",
   "metadata": {},
   "source": [
    "The function update_step is defined to perform a single step of optimization. First, it samples a batch from the replay memory. After, it creates tensors for each element of the batch. It also computes a mask of non-final states and concatenates the batch elements.\n",
    "Later, it calculates all the Q-values of the policy network given the actual states. Differently from the policy network, the value function is computed based on the next states using the target network.\n",
    "Finally, the expected Q values can be obtained, based on the Q-values of the policy network and the maximum of Q-values calculated using the target network.\n",
    "\n",
    "The train is run over 800 episodes with that given parameters initialized before. The reason why a parameters optimization is not implemented is purely for computational effort and time this simple game spends."
   ]
  },
  {
   "cell_type": "code",
   "execution_count": 10,
   "metadata": {
    "colab": {
     "base_uri": "https://localhost:8080/",
     "height": 1000,
     "referenced_widgets": [
      "e1f894e35b5441c7845e1e36fe41876d",
      "747079e447dc407bbf567a63922107ca",
      "34b89fb5ee434ce88520bfba7949f15c",
      "36fcbfe811b34fdab3b3df733224b9c1",
      "043ae4b6585940268deaa183c3797e73",
      "4eb0c2d759114f67ba38507afdf4c712",
      "64360b70fc9546eeacdbb8d8da1b8c8c",
      "3daa66af56ae4098a3c09847d709b087",
      "4171f92799e34ac7a0fabd0b426d2b5d",
      "79d4057f7afb4af28a85df9f73a51de5",
      "7983282454dd4b4ea7b1396c8fc87292"
     ]
    },
    "id": "BICY6WBQ2jx_",
    "outputId": "2b35a66c-f9cc-423b-dbfd-7c152fd8fe1a"
   },
   "outputs": [
    {
     "data": {
      "application/vnd.jupyter.widget-view+json": {
       "model_id": "c709ac60fb6b41bb9265cf4f1434a5b9",
       "version_major": 2,
       "version_minor": 0
      },
      "text/plain": [
       "  0%|          | 0/800 [00:00<?, ?it/s]"
      ]
     },
     "metadata": {},
     "output_type": "display_data"
    },
    {
     "name": "stdout",
     "output_type": "stream",
     "text": [
      "Updating target network...\n",
      "EPISODE: 1 - FINAL SCORE: -500.0 - Temperature: 5.0\n",
      "EPISODE: 2 - FINAL SCORE: -500.0 - Temperature: 4.940008876649582\n"
     ]
    },
    {
     "name": "stderr",
     "output_type": "stream",
     "text": [
      "<ipython-input-9-0088741b6db9>:8: UserWarning: Creating a tensor from a list of numpy.ndarrays is extremely slow. Please consider converting the list to a single numpy.ndarray with numpy.array() before converting to a tensor. (Triggered internally at  ..\\torch\\csrc\\utils\\tensor_new.cpp:201.)\n",
      "  states      = torch.tensor([s[0] for s in batch], dtype=torch.float32, device=device)\n"
     ]
    },
    {
     "name": "stdout",
     "output_type": "stream",
     "text": [
      "EPISODE: 3 - FINAL SCORE: -500.0 - Temperature: 4.880737540275333\n",
      "EPISODE: 4 - FINAL SCORE: -500.0 - Temperature: 4.822177354711398\n",
      "EPISODE: 5 - FINAL SCORE: -500.0 - Temperature: 4.764319787410582\n",
      "EPISODE: 6 - FINAL SCORE: -500.0 - Temperature: 4.707156408201104\n",
      "EPISODE: 7 - FINAL SCORE: -500.0 - Temperature: 4.650678888058284\n",
      "EPISODE: 8 - FINAL SCORE: -500.0 - Temperature: 4.594878997890946\n",
      "EPISODE: 9 - FINAL SCORE: -500.0 - Temperature: 4.539748607342402\n",
      "EPISODE: 10 - FINAL SCORE: -356.0 - Temperature: 4.485279683605809\n",
      "Updating target network...\n",
      "EPISODE: 11 - FINAL SCORE: -500.0 - Temperature: 4.431464290253745\n",
      "EPISODE: 12 - FINAL SCORE: -500.0 - Temperature: 4.378294586081827\n",
      "EPISODE: 13 - FINAL SCORE: -500.0 - Temperature: 4.325762823966207\n",
      "EPISODE: 14 - FINAL SCORE: -500.0 - Temperature: 4.273861349734766\n",
      "EPISODE: 15 - FINAL SCORE: -500.0 - Temperature: 4.222582601051861\n",
      "EPISODE: 16 - FINAL SCORE: -500.0 - Temperature: 4.171919106316454\n",
      "EPISODE: 17 - FINAL SCORE: -500.0 - Temperature: 4.121863483573455\n",
      "EPISODE: 18 - FINAL SCORE: -500.0 - Temperature: 4.072408439438128\n",
      "EPISODE: 19 - FINAL SCORE: -500.0 - Temperature: 4.0235467680334045\n",
      "EPISODE: 20 - FINAL SCORE: -424.0 - Temperature: 3.975271349939951\n",
      "Updating target network...\n",
      "EPISODE: 21 - FINAL SCORE: -500.0 - Temperature: 3.9275751511588246\n",
      "EPISODE: 22 - FINAL SCORE: -500.0 - Temperature: 3.8804512220865837\n",
      "EPISODE: 23 - FINAL SCORE: -500.0 - Temperature: 3.833892696502688\n",
      "EPISODE: 24 - FINAL SCORE: -500.0 - Temperature: 3.7878927905690563\n",
      "EPISODE: 25 - FINAL SCORE: -500.0 - Temperature: 3.7424448018416188\n",
      "EPISODE: 26 - FINAL SCORE: -500.0 - Temperature: 3.6975421082937365\n",
      "EPISODE: 27 - FINAL SCORE: -500.0 - Temperature: 3.653178167351334\n",
      "EPISODE: 28 - FINAL SCORE: -500.0 - Temperature: 3.6093465149396082\n",
      "EPISODE: 29 - FINAL SCORE: -500.0 - Temperature: 3.56604076454118\n",
      "EPISODE: 30 - FINAL SCORE: -500.0 - Temperature: 3.523254606265538\n",
      "Updating target network...\n",
      "EPISODE: 31 - FINAL SCORE: -500.0 - Temperature: 3.480981805929657\n",
      "EPISODE: 32 - FINAL SCORE: -500.0 - Temperature: 3.4392162041496395\n",
      "EPISODE: 33 - FINAL SCORE: -500.0 - Temperature: 3.39795171544326\n",
      "EPISODE: 34 - FINAL SCORE: -500.0 - Temperature: 3.357182327343276\n",
      "EPISODE: 35 - FINAL SCORE: -500.0 - Temperature: 3.316902099521377\n",
      "EPISODE: 36 - FINAL SCORE: -500.0 - Temperature: 3.2771051629226475\n",
      "EPISODE: 37 - FINAL SCORE: -500.0 - Temperature: 3.237785718910411\n",
      "EPISODE: 38 - FINAL SCORE: -500.0 - Temperature: 3.1989380384213355\n",
      "EPISODE: 39 - FINAL SCORE: -500.0 - Temperature: 3.1605564611306796\n",
      "EPISODE: 40 - FINAL SCORE: -500.0 - Temperature: 3.12263539462755\n",
      "Updating target network...\n",
      "EPISODE: 41 - FINAL SCORE: -500.0 - Temperature: 3.085169313600053\n",
      "EPISODE: 42 - FINAL SCORE: -500.0 - Temperature: 3.048152759030232\n",
      "EPISODE: 43 - FINAL SCORE: -500.0 - Temperature: 3.011580337398652\n",
      "EPISODE: 44 - FINAL SCORE: -500.0 - Temperature: 2.975446719898537\n",
      "EPISODE: 45 - FINAL SCORE: -500.0 - Temperature: 2.939746641659331\n",
      "EPISODE: 46 - FINAL SCORE: -500.0 - Temperature: 2.9044749009795785\n",
      "EPISODE: 47 - FINAL SCORE: -500.0 - Temperature: 2.8696263585690067\n",
      "EPISODE: 48 - FINAL SCORE: -500.0 - Temperature: 2.835195936799702\n",
      "EPISODE: 49 - FINAL SCORE: -500.0 - Temperature: 2.801178618966271\n",
      "EPISODE: 50 - FINAL SCORE: -500.0 - Temperature: 2.767569448554879\n",
      "Updating target network...\n",
      "EPISODE: 51 - FINAL SCORE: -500.0 - Temperature: 2.734363528521058\n",
      "EPISODE: 52 - FINAL SCORE: -500.0 - Temperature: 2.70155602057618\n",
      "EPISODE: 53 - FINAL SCORE: -500.0 - Temperature: 2.6691421444824903\n",
      "EPISODE: 54 - FINAL SCORE: -500.0 - Temperature: 2.6371171773566005\n",
      "EPISODE: 55 - FINAL SCORE: -500.0 - Temperature: 2.605476452981339\n",
      "EPISODE: 56 - FINAL SCORE: -500.0 - Temperature: 2.574215361125857\n",
      "EPISODE: 57 - FINAL SCORE: -500.0 - Temperature: 2.5433293468738882\n",
      "EPISODE: 58 - FINAL SCORE: -500.0 - Temperature: 2.5128139099600784\n",
      "EPISODE: 59 - FINAL SCORE: -500.0 - Temperature: 2.482664604114266\n",
      "EPISODE: 60 - FINAL SCORE: -500.0 - Temperature: 2.452877036413639\n",
      "Updating target network...\n",
      "EPISODE: 61 - FINAL SCORE: -500.0 - Temperature: 2.423446866642659\n",
      "EPISODE: 62 - FINAL SCORE: -500.0 - Temperature: 2.3943698066606705\n",
      "EPISODE: 63 - FINAL SCORE: -500.0 - Temperature: 2.365641619777091\n",
      "EPISODE: 64 - FINAL SCORE: -500.0 - Temperature: 2.337258120134105\n",
      "EPISODE: 65 - FINAL SCORE: -500.0 - Temperature: 2.3092151720967586\n",
      "EPISODE: 66 - FINAL SCORE: -500.0 - Temperature: 2.281508689650376\n",
      "EPISODE: 67 - FINAL SCORE: -500.0 - Temperature: 2.254134635805203\n",
      "EPISODE: 68 - FINAL SCORE: -500.0 - Temperature: 2.227089022008195\n",
      "EPISODE: 69 - FINAL SCORE: -486.0 - Temperature: 2.200367907561864\n",
      "EPISODE: 70 - FINAL SCORE: -500.0 - Temperature: 2.173967399050095\n",
      "Updating target network...\n",
      "EPISODE: 71 - FINAL SCORE: -500.0 - Temperature: 2.1478836497708547\n",
      "EPISODE: 72 - FINAL SCORE: -500.0 - Temperature: 2.122112859175705\n",
      "EPISODE: 73 - FINAL SCORE: -500.0 - Temperature: 2.096651272316041\n",
      "EPISODE: 74 - FINAL SCORE: -500.0 - Temperature: 2.0714951792959764\n",
      "EPISODE: 75 - FINAL SCORE: -500.0 - Temperature: 2.0466409147317886\n",
      "EPISODE: 76 - FINAL SCORE: -500.0 - Temperature: 2.022084857217851\n",
      "EPISODE: 77 - FINAL SCORE: -500.0 - Temperature: 1.9978234287989773\n",
      "EPISODE: 78 - FINAL SCORE: -500.0 - Temperature: 1.9738530944490904\n",
      "EPISODE: 79 - FINAL SCORE: -500.0 - Temperature: 1.9501703615561505\n",
      "EPISODE: 80 - FINAL SCORE: -500.0 - Temperature: 1.9267717794132615\n",
      "Updating target network...\n",
      "EPISODE: 81 - FINAL SCORE: -500.0 - Temperature: 1.9036539387158846\n",
      "EPISODE: 82 - FINAL SCORE: -500.0 - Temperature: 1.8808134710650817\n",
      "EPISODE: 83 - FINAL SCORE: -500.0 - Temperature: 1.8582470484767233\n",
      "EPISODE: 84 - FINAL SCORE: -500.0 - Temperature: 1.8359513828965799\n",
      "EPISODE: 85 - FINAL SCORE: -500.0 - Temperature: 1.8139232257212359\n",
      "EPISODE: 86 - FINAL SCORE: -500.0 - Temperature: 1.7921593673247496\n",
      "EPISODE: 87 - FINAL SCORE: -500.0 - Temperature: 1.7706566365909926\n",
      "EPISODE: 88 - FINAL SCORE: -500.0 - Temperature: 1.7494119004515993\n",
      "EPISODE: 89 - FINAL SCORE: -500.0 - Temperature: 1.7284220634294631\n",
      "EPISODE: 90 - FINAL SCORE: -500.0 - Temperature: 1.7076840671877067\n",
      "Updating target network...\n",
      "EPISODE: 91 - FINAL SCORE: -500.0 - Temperature: 1.6871948900840668\n",
      "EPISODE: 92 - FINAL SCORE: -500.0 - Temperature: 1.6669515467306208\n",
      "EPISODE: 93 - FINAL SCORE: -500.0 - Temperature: 1.6469510875588036\n",
      "EPISODE: 94 - FINAL SCORE: -500.0 - Temperature: 1.6271905983896344\n",
      "EPISODE: 95 - FINAL SCORE: -500.0 - Temperature: 1.6076672000091077\n",
      "EPISODE: 96 - FINAL SCORE: -500.0 - Temperature: 1.5883780477486744\n",
      "EPISODE: 97 - FINAL SCORE: -500.0 - Temperature: 1.569320331070757\n",
      "EPISODE: 98 - FINAL SCORE: -500.0 - Temperature: 1.5504912731592402\n",
      "EPISODE: 99 - FINAL SCORE: -500.0 - Temperature: 1.5318881305148715\n",
      "EPISODE: 100 - FINAL SCORE: -500.0 - Temperature: 1.5135081925555196\n",
      "Updating target network...\n",
      "EPISODE: 101 - FINAL SCORE: -500.0 - Temperature: 1.4953487812212265\n",
      "EPISODE: 102 - FINAL SCORE: -500.0 - Temperature: 1.4774072505839986\n",
      "EPISODE: 103 - FINAL SCORE: -500.0 - Temperature: 1.4596809864622813\n",
      "EPISODE: 104 - FINAL SCORE: -500.0 - Temperature: 1.4421674060400576\n",
      "EPISODE: 105 - FINAL SCORE: -500.0 - Temperature: 1.4248639574905173\n",
      "EPISODE: 106 - FINAL SCORE: -500.0 - Temperature: 1.4077681196042415\n",
      "EPISODE: 107 - FINAL SCORE: -500.0 - Temperature: 1.3908774014218486\n",
      "EPISODE: 108 - FINAL SCORE: -472.0 - Temperature: 1.3741893418710474\n",
      "EPISODE: 109 - FINAL SCORE: -500.0 - Temperature: 1.3577015094080442\n",
      "EPISODE: 110 - FINAL SCORE: -500.0 - Temperature: 1.3414115016632548\n",
      "Updating target network...\n",
      "EPISODE: 111 - FINAL SCORE: -488.0 - Temperature: 1.325316945091265\n",
      "EPISODE: 112 - FINAL SCORE: -500.0 - Temperature: 1.3094154946249912\n",
      "EPISODE: 113 - FINAL SCORE: -500.0 - Temperature: 1.2937048333339918\n",
      "EPISODE: 114 - FINAL SCORE: -500.0 - Temperature: 1.2781826720868774\n",
      "EPISODE: 115 - FINAL SCORE: -500.0 - Temperature: 1.2628467492177715\n",
      "EPISODE: 116 - FINAL SCORE: -500.0 - Temperature: 1.2476948301967719\n",
      "EPISODE: 117 - FINAL SCORE: -500.0 - Temperature: 1.232724707304369\n",
      "EPISODE: 118 - FINAL SCORE: -500.0 - Temperature: 1.2179341993097683\n",
      "EPISODE: 119 - FINAL SCORE: -500.0 - Temperature: 1.2033211511530713\n",
      "EPISODE: 120 - FINAL SCORE: -500.0 - Temperature: 1.188883433631273\n",
      "Updating target network...\n",
      "EPISODE: 121 - FINAL SCORE: -500.0 - Temperature: 1.1746189430880247\n",
      "EPISODE: 122 - FINAL SCORE: -500.0 - Temperature: 1.1605256011071183\n",
      "EPISODE: 123 - FINAL SCORE: -500.0 - Temperature: 1.1466013542096514\n",
      "EPISODE: 124 - FINAL SCORE: -500.0 - Temperature: 1.1328441735548218\n",
      "EPISODE: 125 - FINAL SCORE: -500.0 - Temperature: 1.1192520546443159\n",
      "EPISODE: 126 - FINAL SCORE: -500.0 - Temperature: 1.1058230170302406\n",
      "EPISODE: 127 - FINAL SCORE: -500.0 - Temperature: 1.0925551040265622\n",
      "EPISODE: 128 - FINAL SCORE: -407.0 - Temperature: 1.079446382424005\n",
      "EPISODE: 129 - FINAL SCORE: -500.0 - Temperature: 1.0664949422083727\n",
      "EPISODE: 130 - FINAL SCORE: -469.0 - Temperature: 1.0536988962822489\n",
      "Updating target network...\n",
      "EPISODE: 131 - FINAL SCORE: -500.0 - Temperature: 1.0410563801900354\n",
      "EPISODE: 132 - FINAL SCORE: -500.0 - Temperature: 1.0285655518462913\n",
      "EPISODE: 133 - FINAL SCORE: -500.0 - Temperature: 1.016224591267331\n",
      "EPISODE: 134 - FINAL SCORE: -500.0 - Temperature: 1.0040317003060417\n",
      "EPISODE: 135 - FINAL SCORE: -490.0 - Temperature: 0.9919851023898838\n",
      "EPISODE: 136 - FINAL SCORE: -500.0 - Temperature: 0.9800830422620341\n",
      "EPISODE: 137 - FINAL SCORE: -500.0 - Temperature: 0.968323785725635\n",
      "EPISODE: 138 - FINAL SCORE: -500.0 - Temperature: 0.956705619391113\n",
      "EPISODE: 139 - FINAL SCORE: -500.0 - Temperature: 0.945226850426527\n",
      "EPISODE: 140 - FINAL SCORE: -500.0 - Temperature: 0.933885806310914\n",
      "Updating target network...\n",
      "EPISODE: 141 - FINAL SCORE: -500.0 - Temperature: 0.9226808345905935\n",
      "EPISODE: 142 - FINAL SCORE: -500.0 - Temperature: 0.9116103026383953\n",
      "EPISODE: 143 - FINAL SCORE: -500.0 - Temperature: 0.9006725974157769\n",
      "EPISODE: 144 - FINAL SCORE: -500.0 - Temperature: 0.8898661252377947\n",
      "EPISODE: 145 - FINAL SCORE: -372.0 - Temperature: 0.8791893115408949\n",
      "EPISODE: 146 - FINAL SCORE: -500.0 - Temperature: 0.868640600653491\n",
      "EPISODE: 147 - FINAL SCORE: -500.0 - Temperature: 0.8582184555692941\n",
      "EPISODE: 148 - FINAL SCORE: -500.0 - Temperature: 0.8479213577233615\n",
      "EPISODE: 149 - FINAL SCORE: -500.0 - Temperature: 0.8377478067708344\n",
      "EPISODE: 150 - FINAL SCORE: -337.0 - Temperature: 0.8276963203683281\n",
      "Updating target network...\n",
      "EPISODE: 151 - FINAL SCORE: -500.0 - Temperature: 0.8177654339579474\n",
      "EPISODE: 152 - FINAL SCORE: -500.0 - Temperature: 0.8079537005538916\n",
      "EPISODE: 153 - FINAL SCORE: -370.0 - Temperature: 0.7982596905316204\n",
      "EPISODE: 154 - FINAL SCORE: -500.0 - Temperature: 0.7886819914195508\n",
      "EPISODE: 155 - FINAL SCORE: -500.0 - Temperature: 0.77921920769325\n",
      "EPISODE: 156 - FINAL SCORE: -500.0 - Temperature: 0.7698699605721018\n",
      "EPISODE: 157 - FINAL SCORE: -353.0 - Temperature: 0.7606328878184093\n",
      "EPISODE: 158 - FINAL SCORE: -500.0 - Temperature: 0.7515066435389095\n",
      "EPISODE: 159 - FINAL SCORE: -500.0 - Temperature: 0.7424898979886694\n",
      "EPISODE: 160 - FINAL SCORE: -310.0 - Temperature: 0.7335813373773338\n",
      "Updating target network...\n",
      "EPISODE: 161 - FINAL SCORE: -500.0 - Temperature: 0.7247796636777002\n",
      "EPISODE: 162 - FINAL SCORE: -500.0 - Temperature: 0.7160835944365874\n",
      "EPISODE: 163 - FINAL SCORE: -500.0 - Temperature: 0.7074918625879763\n",
      "EPISODE: 164 - FINAL SCORE: -500.0 - Temperature: 0.6990032162683899\n",
      "EPISODE: 165 - FINAL SCORE: -500.0 - Temperature: 0.6906164186344907\n",
      "EPISODE: 166 - FINAL SCORE: -500.0 - Temperature: 0.6823302476828654\n",
      "EPISODE: 167 - FINAL SCORE: -500.0 - Temperature: 0.6741434960719727\n",
      "EPISODE: 168 - FINAL SCORE: -500.0 - Temperature: 0.6660549709462256\n",
      "EPISODE: 169 - FINAL SCORE: -500.0 - Temperature: 0.6580634937621866\n",
      "EPISODE: 170 - FINAL SCORE: -500.0 - Temperature: 0.6501679001168479\n",
      "Updating target network...\n",
      "EPISODE: 171 - FINAL SCORE: -329.0 - Temperature: 0.6423670395779695\n",
      "EPISODE: 172 - FINAL SCORE: -332.0 - Temperature: 0.6346597755164565\n",
      "EPISODE: 173 - FINAL SCORE: -339.0 - Temperature: 0.6270449849407451\n",
      "EPISODE: 174 - FINAL SCORE: -500.0 - Temperature: 0.6195215583331769\n",
      "EPISODE: 175 - FINAL SCORE: -500.0 - Temperature: 0.6120883994883352\n",
      "EPISODE: 176 - FINAL SCORE: -500.0 - Temperature: 0.6047444253533223\n",
      "EPISODE: 177 - FINAL SCORE: -500.0 - Temperature: 0.5974885658699525\n",
      "EPISODE: 178 - FINAL SCORE: -441.0 - Temperature: 0.5903197638188388\n",
      "EPISODE: 179 - FINAL SCORE: -500.0 - Temperature: 0.5832369746653496\n",
      "EPISODE: 180 - FINAL SCORE: -500.0 - Temperature: 0.5762391664074149\n",
      "Updating target network...\n",
      "EPISODE: 181 - FINAL SCORE: -500.0 - Temperature: 0.5693253194251571\n",
      "EPISODE: 182 - FINAL SCORE: -500.0 - Temperature: 0.5624944263323269\n",
      "EPISODE: 183 - FINAL SCORE: -500.0 - Temperature: 0.5557454918295219\n",
      "EPISODE: 184 - FINAL SCORE: -500.0 - Temperature: 0.5490775325591651\n",
      "EPISODE: 185 - FINAL SCORE: -346.0 - Temperature: 0.5424895769622252\n",
      "EPISODE: 186 - FINAL SCORE: -261.0 - Temperature: 0.5359806651366538\n",
      "EPISODE: 187 - FINAL SCORE: -500.0 - Temperature: 0.5295498486975234\n",
      "EPISODE: 188 - FINAL SCORE: -500.0 - Temperature: 0.5231961906388417\n",
      "EPISODE: 189 - FINAL SCORE: -500.0 - Temperature: 0.516918765197025\n",
      "EPISODE: 190 - FINAL SCORE: -457.0 - Temperature: 0.5107166577160089\n",
      "Updating target network...\n",
      "EPISODE: 191 - FINAL SCORE: -386.0 - Temperature: 0.504588964513978\n",
      "EPISODE: 192 - FINAL SCORE: -500.0 - Temperature: 0.4985347927516945\n",
      "EPISODE: 193 - FINAL SCORE: -500.0 - Temperature: 0.49255326030240604\n",
      "EPISODE: 194 - FINAL SCORE: -324.0 - Temperature: 0.48664349562331566\n",
      "EPISODE: 195 - FINAL SCORE: -500.0 - Temperature: 0.48080463762859227\n",
      "EPISODE: 196 - FINAL SCORE: -500.0 - Temperature: 0.4750358355639062\n",
      "EPISODE: 197 - FINAL SCORE: -500.0 - Temperature: 0.4693362488824696\n",
      "EPISODE: 198 - FINAL SCORE: -500.0 - Temperature: 0.4637050471225635\n",
      "EPISODE: 199 - FINAL SCORE: -389.0 - Temperature: 0.4581414097865352\n",
      "EPISODE: 200 - FINAL SCORE: -500.0 - Temperature: 0.45264452622124757\n",
      "Updating target network...\n",
      "EPISODE: 201 - FINAL SCORE: -348.0 - Temperature: 0.4472135954999615\n",
      "EPISODE: 202 - FINAL SCORE: -289.0 - Temperature: 0.441847826305637\n",
      "EPISODE: 203 - FINAL SCORE: -344.0 - Temperature: 0.436546436815634\n",
      "EPISODE: 204 - FINAL SCORE: -500.0 - Temperature: 0.43130865458779555\n",
      "EPISODE: 205 - FINAL SCORE: -454.0 - Temperature: 0.42613371644789966\n",
      "EPISODE: 206 - FINAL SCORE: -500.0 - Temperature: 0.42102086837846003\n",
      "EPISODE: 207 - FINAL SCORE: -354.0 - Temperature: 0.41596936540886165\n",
      "EPISODE: 208 - FINAL SCORE: -500.0 - Temperature: 0.410978471506814\n",
      "EPISODE: 209 - FINAL SCORE: -374.0 - Temperature: 0.4060474594711077\n",
      "EPISODE: 210 - FINAL SCORE: -351.0 - Temperature: 0.40117561082565667\n",
      "Updating target network...\n",
      "EPISODE: 211 - FINAL SCORE: -465.0 - Temperature: 0.39636221571481245\n",
      "EPISODE: 212 - FINAL SCORE: -323.0 - Temperature: 0.391606572799934\n",
      "EPISODE: 213 - FINAL SCORE: -289.0 - Temperature: 0.3869079891571989\n",
      "EPISODE: 214 - FINAL SCORE: -500.0 - Temperature: 0.38226578017664053\n",
      "EPISODE: 215 - FINAL SCORE: -302.0 - Temperature: 0.37767926946239644\n",
      "EPISODE: 216 - FINAL SCORE: -209.0 - Temperature: 0.37314778873415355\n",
      "EPISODE: 217 - FINAL SCORE: -331.0 - Temperature: 0.3686706777297763\n",
      "EPISODE: 218 - FINAL SCORE: -321.0 - Temperature: 0.36424728410910245\n",
      "EPISODE: 219 - FINAL SCORE: -413.0 - Temperature: 0.35987696335889363\n",
      "EPISODE: 220 - FINAL SCORE: -500.0 - Temperature: 0.3555590786989262\n",
      "Updating target network...\n",
      "EPISODE: 221 - FINAL SCORE: -500.0 - Temperature: 0.3512930009892085\n",
      "EPISODE: 222 - FINAL SCORE: -317.0 - Temperature: 0.3470781086383121\n",
      "EPISODE: 223 - FINAL SCORE: -500.0 - Temperature: 0.34291378751280194\n",
      "EPISODE: 224 - FINAL SCORE: -215.0 - Temperature: 0.33879943084775405\n",
      "EPISODE: 225 - FINAL SCORE: -207.0 - Temperature: 0.3347344391583463\n",
      "EPISODE: 226 - FINAL SCORE: -416.0 - Temperature: 0.33071822015251\n",
      "EPISODE: 227 - FINAL SCORE: -367.0 - Temperature: 0.32675018864463\n",
      "EPISODE: 228 - FINAL SCORE: -298.0 - Temperature: 0.32282976647027956\n",
      "EPISODE: 229 - FINAL SCORE: -365.0 - Temperature: 0.31895638240197854\n",
      "EPISODE: 230 - FINAL SCORE: -243.0 - Temperature: 0.3151294720659625\n",
      "Updating target network...\n",
      "EPISODE: 231 - FINAL SCORE: -252.0 - Temperature: 0.31134847785995023\n",
      "EPISODE: 232 - FINAL SCORE: -244.0 - Temperature: 0.307612848871898\n",
      "EPISODE: 233 - FINAL SCORE: -500.0 - Temperature: 0.30392204079972845\n",
      "EPISODE: 234 - FINAL SCORE: -231.0 - Temperature: 0.30027551587202306\n",
      "EPISODE: 235 - FINAL SCORE: -309.0 - Temperature: 0.2966727427696652\n",
      "EPISODE: 236 - FINAL SCORE: -347.0 - Temperature: 0.2931131965484249\n",
      "EPISODE: 237 - FINAL SCORE: -426.0 - Temperature: 0.2895963585624705\n",
      "EPISODE: 238 - FINAL SCORE: -328.0 - Temperature: 0.2861217163887999\n",
      "EPISODE: 239 - FINAL SCORE: -292.0 - Temperature: 0.2826887637525771\n",
      "EPISODE: 240 - FINAL SCORE: -255.0 - Temperature: 0.27929700045336553\n",
      "Updating target network...\n",
      "EPISODE: 241 - FINAL SCORE: -500.0 - Temperature: 0.2759459322922456\n",
      "EPISODE: 242 - FINAL SCORE: -500.0 - Temperature: 0.27263507099980755\n",
      "EPISODE: 243 - FINAL SCORE: -500.0 - Temperature: 0.2693639341650077\n",
      "EPISODE: 244 - FINAL SCORE: -193.0 - Temperature: 0.2661320451648783\n",
      "EPISODE: 245 - FINAL SCORE: -500.0 - Temperature: 0.26293893309508126\n",
      "EPISODE: 246 - FINAL SCORE: -440.0 - Temperature: 0.2597841327012944\n",
      "EPISODE: 247 - FINAL SCORE: -332.0 - Temperature: 0.25666718431142144\n",
      "EPISODE: 248 - FINAL SCORE: -408.0 - Temperature: 0.25358763376861526\n",
      "EPISODE: 249 - FINAL SCORE: -283.0 - Temperature: 0.2505450323651045\n",
      "EPISODE: 250 - FINAL SCORE: -478.0 - Temperature: 0.24753893677681466\n",
      "Updating target network...\n",
      "EPISODE: 251 - FINAL SCORE: -489.0 - Temperature: 0.2445689089987728\n",
      "EPISODE: 252 - FINAL SCORE: -319.0 - Temperature: 0.2416345162812883\n",
      "EPISODE: 253 - FINAL SCORE: -252.0 - Temperature: 0.23873533106689843\n",
      "EPISODE: 254 - FINAL SCORE: -376.0 - Temperature: 0.235870930928071\n",
      "EPISODE: 255 - FINAL SCORE: -330.0 - Temperature: 0.2330408985056542\n",
      "EPISODE: 256 - FINAL SCORE: -235.0 - Temperature: 0.23024482144806524\n",
      "EPISODE: 257 - FINAL SCORE: -222.0 - Temperature: 0.22748229235120807\n",
      "EPISODE: 258 - FINAL SCORE: -500.0 - Temperature: 0.22475290869911263\n",
      "EPISODE: 259 - FINAL SCORE: -264.0 - Temperature: 0.2220562728052859\n",
      "EPISODE: 260 - FINAL SCORE: -500.0 - Temperature: 0.21939199175476667\n",
      "Updating target network...\n",
      "EPISODE: 261 - FINAL SCORE: -500.0 - Temperature: 0.21675967734687585\n",
      "EPISODE: 262 - FINAL SCORE: -357.0 - Temperature: 0.21415894603865324\n",
      "EPISODE: 263 - FINAL SCORE: -392.0 - Temperature: 0.21158941888897315\n",
      "EPISODE: 264 - FINAL SCORE: -292.0 - Temperature: 0.20905072150333082\n",
      "EPISODE: 265 - FINAL SCORE: -148.0 - Temperature: 0.2065424839792908\n",
      "EPISODE: 266 - FINAL SCORE: -232.0 - Temperature: 0.2040643408525901\n",
      "EPISODE: 267 - FINAL SCORE: -489.0 - Temperature: 0.20161593104388822\n",
      "EPISODE: 268 - FINAL SCORE: -290.0 - Temperature: 0.19919689780615557\n",
      "EPISODE: 269 - FINAL SCORE: -257.0 - Temperature: 0.19680688867269364\n",
      "EPISODE: 270 - FINAL SCORE: -336.0 - Temperature: 0.19444555540577851\n",
      "Updating target network...\n",
      "EPISODE: 271 - FINAL SCORE: -232.0 - Temperature: 0.19211255394592078\n",
      "EPISODE: 272 - FINAL SCORE: -320.0 - Temperature: 0.18980754436173408\n",
      "EPISODE: 273 - FINAL SCORE: -414.0 - Temperature: 0.18753019080040512\n",
      "EPISODE: 274 - FINAL SCORE: -202.0 - Temperature: 0.18528016143875822\n",
      "EPISODE: 275 - FINAL SCORE: -233.0 - Temperature: 0.18305712843490665\n",
      "EPISODE: 276 - FINAL SCORE: -149.0 - Temperature: 0.18086076788048427\n",
      "EPISODE: 277 - FINAL SCORE: -229.0 - Temperature: 0.1786907597534504\n",
      "EPISODE: 278 - FINAL SCORE: -168.0 - Temperature: 0.17654678787146055\n",
      "EPISODE: 279 - FINAL SCORE: -261.0 - Temperature: 0.17442853984579718\n",
      "EPISODE: 280 - FINAL SCORE: -234.0 - Temperature: 0.17233570703585266\n",
      "Updating target network...\n",
      "EPISODE: 281 - FINAL SCORE: -202.0 - Temperature: 0.1702679845041588\n",
      "EPISODE: 282 - FINAL SCORE: -209.0 - Temperature: 0.1682250709719556\n",
      "EPISODE: 283 - FINAL SCORE: -221.0 - Temperature: 0.16620666877529333\n",
      "EPISODE: 284 - FINAL SCORE: -210.0 - Temperature: 0.16421248382166118\n",
      "EPISODE: 285 - FINAL SCORE: -168.0 - Temperature: 0.16224222554713644\n",
      "EPISODE: 286 - FINAL SCORE: -306.0 - Temperature: 0.16029560687404748\n",
      "EPISODE: 287 - FINAL SCORE: -141.0 - Temperature: 0.1583723441691453\n",
      "EPISODE: 288 - FINAL SCORE: -210.0 - Temperature: 0.15647215720227609\n",
      "EPISODE: 289 - FINAL SCORE: -157.0 - Temperature: 0.15459476910555053\n",
      "EPISODE: 290 - FINAL SCORE: -138.0 - Temperature: 0.15273990633300244\n",
      "Updating target network...\n",
      "EPISODE: 291 - FINAL SCORE: -141.0 - Temperature: 0.15090729862073154\n",
      "EPISODE: 292 - FINAL SCORE: -145.0 - Temperature: 0.1490966789475246\n",
      "EPISODE: 293 - FINAL SCORE: -197.0 - Temperature: 0.1473077834959489\n",
      "EPISODE: 294 - FINAL SCORE: -144.0 - Temperature: 0.14554035161391246\n",
      "EPISODE: 295 - FINAL SCORE: -212.0 - Temperature: 0.14379412577668577\n",
      "EPISODE: 296 - FINAL SCORE: -143.0 - Temperature: 0.14206885154937884\n",
      "EPISODE: 297 - FINAL SCORE: -186.0 - Temperature: 0.14036427754986863\n",
      "EPISODE: 298 - FINAL SCORE: -348.0 - Temperature: 0.13868015541217135\n",
      "EPISODE: 299 - FINAL SCORE: -224.0 - Temperature: 0.137016239750254\n",
      "EPISODE: 300 - FINAL SCORE: -282.0 - Temperature: 0.13537228812228042\n",
      "Updating target network...\n",
      "EPISODE: 301 - FINAL SCORE: -123.0 - Temperature: 0.133748060995286\n",
      "EPISODE: 302 - FINAL SCORE: -200.0 - Temperature: 0.1321433217102765\n",
      "EPISODE: 303 - FINAL SCORE: -178.0 - Temperature: 0.1305578364477455\n",
      "EPISODE: 304 - FINAL SCORE: -167.0 - Temperature: 0.1289913741936054\n",
      "EPISODE: 305 - FINAL SCORE: -216.0 - Temperature: 0.12744370670552768\n",
      "EPISODE: 306 - FINAL SCORE: -276.0 - Temperature: 0.12591460847968655\n",
      "EPISODE: 307 - FINAL SCORE: -134.0 - Temperature: 0.12440385671790165\n",
      "EPISODE: 308 - FINAL SCORE: -120.0 - Temperature: 0.12291123129517537\n",
      "EPISODE: 309 - FINAL SCORE: -331.0 - Temperature: 0.12143651472761925\n",
      "EPISODE: 310 - FINAL SCORE: -205.0 - Temperature: 0.11997949214076535\n",
      "Updating target network...\n",
      "EPISODE: 311 - FINAL SCORE: -209.0 - Temperature: 0.11853995123825792\n",
      "EPISODE: 312 - FINAL SCORE: -220.0 - Temperature: 0.11711768227092054\n",
      "EPISODE: 313 - FINAL SCORE: -166.0 - Temperature: 0.11571247800619458\n",
      "EPISODE: 314 - FINAL SCORE: -130.0 - Temperature: 0.11432413369794414\n",
      "EPISODE: 315 - FINAL SCORE: -239.0 - Temperature: 0.11295244705662355\n",
      "EPISODE: 316 - FINAL SCORE: -164.0 - Temperature: 0.11159721821980245\n",
      "EPISODE: 317 - FINAL SCORE: -136.0 - Temperature: 0.1102582497230449\n",
      "EPISODE: 318 - FINAL SCORE: -119.0 - Temperature: 0.10893534647113763\n",
      "EPISODE: 319 - FINAL SCORE: -237.0 - Temperature: 0.10762831570966352\n",
      "EPISODE: 320 - FINAL SCORE: -181.0 - Temperature: 0.10633696699691629\n",
      "Updating target network...\n",
      "EPISODE: 321 - FINAL SCORE: -172.0 - Temperature: 0.10506111217615202\n",
      "EPISODE: 322 - FINAL SCORE: -476.0 - Temperature: 0.1038005653481737\n",
      "EPISODE: 323 - FINAL SCORE: -182.0 - Temperature: 0.10255514284424462\n",
      "EPISODE: 324 - FINAL SCORE: -132.0 - Temperature: 0.10132466319932686\n",
      "EPISODE: 325 - FINAL SCORE: -144.0 - Temperature: 0.10010894712564078\n",
      "EPISODE: 326 - FINAL SCORE: -139.0 - Temperature: 0.09890781748654182\n",
      "EPISODE: 327 - FINAL SCORE: -114.0 - Temperature: 0.09772109927071067\n",
      "EPISODE: 328 - FINAL SCORE: -114.0 - Temperature: 0.09654861956665314\n",
      "EPISODE: 329 - FINAL SCORE: -215.0 - Temperature: 0.095390207537506\n",
      "EPISODE: 330 - FINAL SCORE: -206.0 - Temperature: 0.09424569439614511\n",
      "Updating target network...\n",
      "EPISODE: 331 - FINAL SCORE: -134.0 - Temperature: 0.09311491338059211\n",
      "EPISODE: 332 - FINAL SCORE: -120.0 - Temperature: 0.09199769972971639\n",
      "EPISODE: 333 - FINAL SCORE: -139.0 - Temperature: 0.09089389065922837\n",
      "EPISODE: 334 - FINAL SCORE: -359.0 - Temperature: 0.08980332533796093\n",
      "EPISODE: 335 - FINAL SCORE: -148.0 - Temperature: 0.08872584486443547\n",
      "EPISODE: 336 - FINAL SCORE: -163.0 - Temperature: 0.087661292243709\n",
      "EPISODE: 337 - FINAL SCORE: -117.0 - Temperature: 0.08660951236449912\n",
      "EPISODE: 338 - FINAL SCORE: -117.0 - Temperature: 0.08557035197658347\n",
      "EPISODE: 339 - FINAL SCORE: -124.0 - Temperature: 0.08454365966847027\n",
      "EPISODE: 340 - FINAL SCORE: -212.0 - Temperature: 0.08352928584533689\n",
      "Updating target network...\n",
      "EPISODE: 341 - FINAL SCORE: -131.0 - Temperature: 0.0825270827072329\n",
      "EPISODE: 342 - FINAL SCORE: -274.0 - Temperature: 0.08153690422754496\n",
      "EPISODE: 343 - FINAL SCORE: -170.0 - Temperature: 0.08055860613171978\n",
      "EPISODE: 344 - FINAL SCORE: -110.0 - Temperature: 0.07959204587624263\n",
      "EPISODE: 345 - FINAL SCORE: -104.0 - Temperature: 0.07863708262786788\n",
      "EPISODE: 346 - FINAL SCORE: -123.0 - Temperature: 0.07769357724309879\n",
      "EPISODE: 347 - FINAL SCORE: -98.0 - Temperature: 0.07676139224791359\n",
      "EPISODE: 348 - FINAL SCORE: -105.0 - Temperature: 0.0758403918177347\n",
      "EPISODE: 349 - FINAL SCORE: -119.0 - Temperature: 0.07493044175763836\n",
      "EPISODE: 350 - FINAL SCORE: -67.0 - Temperature: 0.0740314094828016\n",
      "Updating target network...\n",
      "EPISODE: 351 - FINAL SCORE: -109.0 - Temperature: 0.073143163999184\n",
      "EPISODE: 352 - FINAL SCORE: -107.0 - Temperature: 0.07226557588444102\n",
      "EPISODE: 353 - FINAL SCORE: -185.0 - Temperature: 0.07139851726906651\n",
      "EPISODE: 354 - FINAL SCORE: -109.0 - Temperature: 0.07054186181776141\n",
      "EPISODE: 355 - FINAL SCORE: -109.0 - Temperature: 0.06969548471102592\n",
      "EPISODE: 356 - FINAL SCORE: -153.0 - Temperature: 0.06885926262697264\n",
      "EPISODE: 357 - FINAL SCORE: -145.0 - Temperature: 0.06803307372335794\n",
      "EPISODE: 358 - FINAL SCORE: -128.0 - Temperature: 0.06721679761982872\n",
      "EPISODE: 359 - FINAL SCORE: -152.0 - Temperature: 0.06641031538038249\n",
      "EPISODE: 360 - FINAL SCORE: -140.0 - Temperature: 0.06561350949603754\n",
      "Updating target network...\n",
      "EPISODE: 361 - FINAL SCORE: -137.0 - Temperature: 0.06482626386771143\n",
      "EPISODE: 362 - FINAL SCORE: -132.0 - Temperature: 0.0640484637893045\n",
      "EPISODE: 363 - FINAL SCORE: -141.0 - Temperature: 0.06327999593098671\n",
      "EPISODE: 364 - FINAL SCORE: -96.0 - Temperature: 0.06252074832268475\n",
      "EPISODE: 365 - FINAL SCORE: -118.0 - Temperature: 0.06177061033776743\n",
      "EPISODE: 366 - FINAL SCORE: -93.0 - Temperature: 0.06102947267692671\n",
      "EPISODE: 367 - FINAL SCORE: -85.0 - Temperature: 0.060297227352252215\n",
      "EPISODE: 368 - FINAL SCORE: -133.0 - Temperature: 0.05957376767149678\n",
      "EPISODE: 369 - FINAL SCORE: -99.0 - Temperature: 0.0588589882225308\n",
      "EPISODE: 370 - FINAL SCORE: -120.0 - Temperature: 0.05815278485798307\n",
      "Updating target network...\n",
      "EPISODE: 371 - FINAL SCORE: -126.0 - Temperature: 0.05745505468006596\n",
      "EPISODE: 372 - FINAL SCORE: -107.0 - Temperature: 0.05676569602558259\n",
      "EPISODE: 373 - FINAL SCORE: -126.0 - Temperature: 0.056084608451113974\n",
      "EPISODE: 374 - FINAL SCORE: -103.0 - Temperature: 0.05541169271838384\n",
      "EPISODE: 375 - FINAL SCORE: -115.0 - Temperature: 0.05474685077979904\n",
      "EPISODE: 376 - FINAL SCORE: -106.0 - Temperature: 0.05408998576416346\n",
      "EPISODE: 377 - FINAL SCORE: -163.0 - Temperature: 0.053441001962563406\n",
      "EPISODE: 378 - FINAL SCORE: -161.0 - Temperature: 0.052799804814422195\n",
      "EPISODE: 379 - FINAL SCORE: -108.0 - Temperature: 0.05216630089372219\n",
      "EPISODE: 380 - FINAL SCORE: -112.0 - Temperature: 0.05154039789539214\n",
      "Updating target network...\n",
      "EPISODE: 381 - FINAL SCORE: -127.0 - Temperature: 0.05092200462185771\n",
      "EPISODE: 382 - FINAL SCORE: -103.0 - Temperature: 0.05031103096975363\n",
      "EPISODE: 383 - FINAL SCORE: -130.0 - Temperature: 0.049707387916794986\n",
      "EPISODE: 384 - FINAL SCORE: -139.0 - Temperature: 0.049110987508806284\n",
      "EPISODE: 385 - FINAL SCORE: -113.0 - Temperature: 0.048521742846905955\n",
      "EPISODE: 386 - FINAL SCORE: -135.0 - Temperature: 0.04793956807484476\n",
      "EPISODE: 387 - FINAL SCORE: -500.0 - Temperature: 0.047364378366496006\n",
      "EPISODE: 388 - FINAL SCORE: -107.0 - Temperature: 0.04679608991349594\n",
      "EPISODE: 389 - FINAL SCORE: -88.0 - Temperature: 0.046234619913032377\n",
      "EPISODE: 390 - FINAL SCORE: -87.0 - Temperature: 0.0456798865557799\n",
      "Updating target network...\n",
      "EPISODE: 391 - FINAL SCORE: -126.0 - Temperature: 0.045131809013979715\n",
      "EPISODE: 392 - FINAL SCORE: -111.0 - Temperature: 0.04459030742966268\n",
      "EPISODE: 393 - FINAL SCORE: -87.0 - Temperature: 0.044055302903013495\n",
      "EPISODE: 394 - FINAL SCORE: -96.0 - Temperature: 0.043526717480874555\n",
      "EPISODE: 395 - FINAL SCORE: -95.0 - Temperature: 0.043004474145387765\n",
      "EPISODE: 396 - FINAL SCORE: -100.0 - Temperature: 0.0424884968027726\n",
      "EPISODE: 397 - FINAL SCORE: -104.0 - Temperature: 0.04197871027223881\n",
      "EPISODE: 398 - FINAL SCORE: -83.0 - Temperature: 0.04147504027503214\n",
      "EPISODE: 399 - FINAL SCORE: -89.0 - Temperature: 0.04097741342361154\n",
      "EPISODE: 400 - FINAL SCORE: -131.0 - Temperature: 0.04048575721095614\n",
      "Updating target network...\n",
      "EPISODE: 401 - FINAL SCORE: -86.0 - Temperature: 0.04000000000000063\n",
      "EPISODE: 402 - FINAL SCORE: -79.0 - Temperature: 0.03952007101319728\n",
      "EPISODE: 403 - FINAL SCORE: -82.0 - Temperature: 0.039045900322203286\n",
      "EPISODE: 404 - FINAL SCORE: -97.0 - Temperature: 0.0385774188376918\n",
      "EPISODE: 405 - FINAL SCORE: -95.0 - Temperature: 0.038114558299285256\n",
      "EPISODE: 406 - FINAL SCORE: -71.0 - Temperature: 0.03765725126560943\n",
      "EPISODE: 407 - FINAL SCORE: -165.0 - Temperature: 0.03720543110446686\n",
      "EPISODE: 408 - FINAL SCORE: -179.0 - Temperature: 0.03675903198312815\n",
      "EPISODE: 409 - FINAL SCORE: -101.0 - Temperature: 0.03631798885873979\n",
      "EPISODE: 410 - FINAL SCORE: -94.0 - Temperature: 0.03588223746884704\n",
      "Updating target network...\n",
      "EPISODE: 411 - FINAL SCORE: -117.0 - Temperature: 0.03545171432203052\n",
      "EPISODE: 412 - FINAL SCORE: -106.0 - Temperature: 0.035026356688655176\n",
      "EPISODE: 413 - FINAL SCORE: -97.0 - Temperature: 0.034606102591730206\n",
      "EPISODE: 414 - FINAL SCORE: -97.0 - Temperature: 0.03419089079787867\n",
      "EPISODE: 415 - FINAL SCORE: -70.0 - Temperature: 0.03378066080841542\n",
      "EPISODE: 416 - FINAL SCORE: -79.0 - Temperature: 0.03337535285053217\n",
      "EPISODE: 417 - FINAL SCORE: -136.0 - Temperature: 0.032974907868588164\n",
      "EPISODE: 418 - FINAL SCORE: -124.0 - Temperature: 0.032579267515505536\n",
      "EPISODE: 419 - FINAL SCORE: -103.0 - Temperature: 0.03218837414426774\n",
      "EPISODE: 420 - FINAL SCORE: -101.0 - Temperature: 0.03180217079952011\n",
      "Updating target network...\n",
      "EPISODE: 421 - FINAL SCORE: -112.0 - Temperature: 0.0314206012092711\n",
      "EPISODE: 422 - FINAL SCORE: -101.0 - Temperature: 0.03104360977669316\n",
      "EPISODE: 423 - FINAL SCORE: -97.0 - Temperature: 0.03067114157202199\n",
      "EPISODE: 424 - FINAL SCORE: -102.0 - Temperature: 0.030303142324552935\n",
      "EPISODE: 425 - FINAL SCORE: -87.0 - Temperature: 0.029939558414733426\n",
      "EPISODE: 426 - FINAL SCORE: -94.0 - Temperature: 0.02958033686635036\n",
      "EPISODE: 427 - FINAL SCORE: -92.0 - Temperature: 0.029225425338811135\n",
      "EPISODE: 428 - FINAL SCORE: -87.0 - Temperature: 0.028874772119517327\n",
      "EPISODE: 429 - FINAL SCORE: -105.0 - Temperature: 0.02852832611632989\n",
      "EPISODE: 430 - FINAL SCORE: -111.0 - Temperature: 0.02818603685012475\n",
      "Updating target network...\n",
      "EPISODE: 431 - FINAL SCORE: -92.0 - Temperature: 0.027847854447437696\n",
      "EPISODE: 432 - FINAL SCORE: -80.0 - Temperature: 0.027513729633197554\n",
      "EPISODE: 433 - FINAL SCORE: -91.0 - Temperature: 0.027183613723546513\n",
      "EPISODE: 434 - FINAL SCORE: -110.0 - Temperature: 0.026857458618746635\n",
      "EPISODE: 435 - FINAL SCORE: -138.0 - Temperature: 0.02653521679617144\n",
      "EPISODE: 436 - FINAL SCORE: -98.0 - Temperature: 0.0262168413033816\n",
      "EPISODE: 437 - FINAL SCORE: -120.0 - Temperature: 0.0259022857512837\n",
      "EPISODE: 438 - FINAL SCORE: -102.0 - Temperature: 0.02559150430737109\n",
      "EPISODE: 439 - FINAL SCORE: -73.0 - Temperature: 0.02528445168904584\n",
      "EPISODE: 440 - FINAL SCORE: -94.0 - Temperature: 0.024981083157020793\n",
      "Updating target network...\n",
      "EPISODE: 441 - FINAL SCORE: -84.0 - Temperature: 0.024681354508800817\n",
      "EPISODE: 442 - FINAL SCORE: -117.0 - Temperature: 0.024385222072242245\n",
      "EPISODE: 443 - FINAL SCORE: -122.0 - Temperature: 0.0240926426991896\n",
      "EPISODE: 444 - FINAL SCORE: -81.0 - Temperature: 0.023803573759188672\n",
      "EPISODE: 445 - FINAL SCORE: -128.0 - Temperature: 0.02351797313327502\n",
      "EPISODE: 446 - FINAL SCORE: -143.0 - Temperature: 0.023235799207837\n",
      "EPISODE: 447 - FINAL SCORE: -187.0 - Temperature: 0.02295701086855242\n",
      "EPISODE: 448 - FINAL SCORE: -98.0 - Temperature: 0.022681567494397974\n",
      "EPISODE: 449 - FINAL SCORE: -175.0 - Temperature: 0.022409428951730526\n",
      "EPISODE: 450 - FINAL SCORE: -106.0 - Temperature: 0.022140555588439387\n",
      "Updating target network...\n",
      "EPISODE: 451 - FINAL SCORE: -102.0 - Temperature: 0.021874908228168812\n",
      "EPISODE: 452 - FINAL SCORE: -112.0 - Temperature: 0.021612448164609784\n",
      "EPISODE: 453 - FINAL SCORE: -231.0 - Temperature: 0.02135313715586026\n",
      "EPISODE: 454 - FINAL SCORE: -110.0 - Temperature: 0.021096937418853136\n",
      "EPISODE: 455 - FINAL SCORE: -69.0 - Temperature: 0.020843811623851047\n",
      "EPISODE: 456 - FINAL SCORE: -152.0 - Temperature: 0.02059372288900718\n",
      "EPISODE: 457 - FINAL SCORE: -102.0 - Temperature: 0.02034663477499143\n",
      "EPISODE: 458 - FINAL SCORE: -113.0 - Temperature: 0.02010251127968095\n",
      "EPISODE: 459 - FINAL SCORE: -131.0 - Temperature: 0.019861316832914446\n",
      "EPISODE: 460 - FINAL SCORE: -82.0 - Temperature: 0.01962301629130942\n",
      "Updating target network...\n",
      "EPISODE: 461 - FINAL SCORE: -72.0 - Temperature: 0.019387574933141583\n",
      "EPISODE: 462 - FINAL SCORE: -94.0 - Temperature: 0.01915495845328567\n",
      "EPISODE: 463 - FINAL SCORE: -204.0 - Temperature: 0.01892513295821703\n",
      "EPISODE: 464 - FINAL SCORE: -99.0 - Temperature: 0.018698064961073138\n",
      "EPISODE: 465 - FINAL SCORE: -134.0 - Temperature: 0.018473721376774364\n",
      "EPISODE: 466 - FINAL SCORE: -150.0 - Temperature: 0.0182520695172033\n",
      "EPISODE: 467 - FINAL SCORE: -118.0 - Temperature: 0.01803307708644191\n",
      "EPISODE: 468 - FINAL SCORE: -139.0 - Temperature: 0.017816712176065844\n",
      "EPISODE: 469 - FINAL SCORE: -88.0 - Temperature: 0.01760294326049519\n",
      "EPISODE: 470 - FINAL SCORE: -108.0 - Temperature: 0.017391739192401036\n",
      "Updating target network...\n",
      "EPISODE: 471 - FINAL SCORE: -101.0 - Temperature: 0.01718306919816711\n",
      "EPISODE: 472 - FINAL SCORE: -65.0 - Temperature: 0.01697690287340591\n",
      "EPISODE: 473 - FINAL SCORE: -88.0 - Temperature: 0.0167732101785286\n",
      "EPISODE: 474 - FINAL SCORE: -83.0 - Temperature: 0.016571961434368076\n",
      "EPISODE: 475 - FINAL SCORE: -114.0 - Temperature: 0.016373127317854567\n",
      "EPISODE: 476 - FINAL SCORE: -108.0 - Temperature: 0.016176678857743064\n",
      "EPISODE: 477 - FINAL SCORE: -65.0 - Temperature: 0.015982587430392072\n",
      "EPISODE: 478 - FINAL SCORE: -87.0 - Temperature: 0.015790824755592972\n",
      "EPISODE: 479 - FINAL SCORE: -89.0 - Temperature: 0.015601362892449452\n",
      "EPISODE: 480 - FINAL SCORE: -70.0 - Temperature: 0.015414174235306338\n",
      "Updating target network...\n",
      "EPISODE: 481 - FINAL SCORE: -82.0 - Temperature: 0.015229231509727317\n",
      "EPISODE: 482 - FINAL SCORE: -80.0 - Temperature: 0.015046507768520893\n",
      "EPISODE: 483 - FINAL SCORE: -103.0 - Temperature: 0.014865976387814022\n",
      "EPISODE: 484 - FINAL SCORE: -129.0 - Temperature: 0.014687611063172871\n",
      "EPISODE: 485 - FINAL SCORE: -63.0 - Temperature: 0.014511385805770119\n",
      "EPISODE: 486 - FINAL SCORE: -82.0 - Temperature: 0.014337274938598224\n",
      "EPISODE: 487 - FINAL SCORE: -107.0 - Temperature: 0.014165253092728165\n",
      "EPISODE: 488 - FINAL SCORE: -102.0 - Temperature: 0.013995295203613017\n",
      "EPISODE: 489 - FINAL SCORE: -123.0 - Temperature: 0.013827376507435922\n",
      "EPISODE: 490 - FINAL SCORE: -104.0 - Temperature: 0.013661472537501872\n",
      "Updating target network...\n",
      "EPISODE: 491 - FINAL SCORE: -70.0 - Temperature: 0.013497559120672745\n",
      "EPISODE: 492 - FINAL SCORE: -69.0 - Temperature: 0.013335612373845179\n",
      "EPISODE: 493 - FINAL SCORE: -110.0 - Temperature: 0.013175608700470638\n",
      "EPISODE: 494 - FINAL SCORE: -99.0 - Temperature: 0.013017524787117282\n",
      "EPISODE: 495 - FINAL SCORE: -112.0 - Temperature: 0.012861337600073068\n",
      "EPISODE: 496 - FINAL SCORE: -138.0 - Temperature: 0.012707024381989597\n",
      "EPISODE: 497 - FINAL SCORE: -92.0 - Temperature: 0.012554562648566256\n",
      "EPISODE: 498 - FINAL SCORE: -132.0 - Temperature: 0.012403930185274118\n",
      "EPISODE: 499 - FINAL SCORE: -91.0 - Temperature: 0.012255105044119167\n",
      "EPISODE: 500 - FINAL SCORE: -92.0 - Temperature: 0.012108065540444352\n",
      "Updating target network...\n",
      "EPISODE: 501 - FINAL SCORE: -85.0 - Temperature: 0.011962790249770002\n",
      "EPISODE: 502 - FINAL SCORE: -80.0 - Temperature: 0.011819258004672175\n",
      "EPISODE: 503 - FINAL SCORE: -94.0 - Temperature: 0.011677447891698434\n",
      "EPISODE: 504 - FINAL SCORE: -86.0 - Temperature: 0.011537339248320642\n",
      "EPISODE: 505 - FINAL SCORE: -114.0 - Temperature: 0.01139891165992432\n",
      "EPISODE: 506 - FINAL SCORE: -157.0 - Temperature: 0.011262144956834112\n",
      "EPISODE: 507 - FINAL SCORE: -62.0 - Temperature: 0.011127019211374966\n",
      "EPISODE: 508 - FINAL SCORE: -106.0 - Temperature: 0.010993514734968554\n",
      "EPISODE: 509 - FINAL SCORE: -500.0 - Temperature: 0.010861612075264527\n",
      "EPISODE: 510 - FINAL SCORE: -84.0 - Temperature: 0.01073129201330621\n",
      "Updating target network...\n",
      "EPISODE: 511 - FINAL SCORE: -113.0 - Temperature: 0.010602535560730287\n",
      "EPISODE: 512 - FINAL SCORE: -105.0 - Temperature: 0.010475323957000095\n",
      "EPISODE: 513 - FINAL SCORE: -93.0 - Temperature: 0.010349638666672099\n",
      "EPISODE: 514 - FINAL SCORE: -79.0 - Temperature: 0.010225461376695182\n",
      "EPISODE: 515 - FINAL SCORE: -114.0 - Temperature: 0.01010277399374233\n",
      "EPISODE: 516 - FINAL SCORE: -75.0 - Temperature: 0.009981558641574333\n",
      "EPISODE: 517 - FINAL SCORE: -77.0 - Temperature: 0.00986179765843511\n",
      "EPISODE: 518 - FINAL SCORE: -97.0 - Temperature: 0.0097434735944783\n",
      "EPISODE: 519 - FINAL SCORE: -101.0 - Temperature: 0.009626569209224722\n",
      "EPISODE: 520 - FINAL SCORE: -89.0 - Temperature: 0.009511067469050335\n",
      "Updating target network...\n",
      "EPISODE: 521 - FINAL SCORE: -100.0 - Temperature: 0.009396951544704346\n",
      "EPISODE: 522 - FINAL SCORE: -89.0 - Temperature: 0.009284204808857093\n",
      "EPISODE: 523 - FINAL SCORE: -89.0 - Temperature: 0.009172810833677356\n",
      "EPISODE: 524 - FINAL SCORE: -68.0 - Temperature: 0.009062753388438718\n",
      "EPISODE: 525 - FINAL SCORE: -72.0 - Temperature: 0.00895401643715467\n",
      "EPISODE: 526 - FINAL SCORE: -76.0 - Temperature: 0.008846584136242066\n",
      "EPISODE: 527 - FINAL SCORE: -98.0 - Temperature: 0.008740440832212638\n",
      "EPISODE: 528 - FINAL SCORE: -112.0 - Temperature: 0.008635571059392177\n",
      "EPISODE: 529 - FINAL SCORE: -86.0 - Temperature: 0.008531959537667118\n",
      "EPISODE: 530 - FINAL SCORE: -63.0 - Temperature: 0.008429591170258124\n",
      "Updating target network...\n",
      "EPISODE: 531 - FINAL SCORE: -78.0 - Temperature: 0.008328451041520414\n",
      "EPISODE: 532 - FINAL SCORE: -91.0 - Temperature: 0.008228524414770462\n",
      "EPISODE: 533 - FINAL SCORE: -86.0 - Temperature: 0.008129796730138777\n",
      "EPISODE: 534 - FINAL SCORE: -79.0 - Temperature: 0.00803225360244846\n",
      "EPISODE: 535 - FINAL SCORE: -82.0 - Temperature: 0.007935880819119195\n",
      "EPISODE: 536 - FINAL SCORE: -96.0 - Temperature: 0.007840664338096395\n",
      "EPISODE: 537 - FINAL SCORE: -89.0 - Temperature: 0.0077465902858052035\n",
      "EPISODE: 538 - FINAL SCORE: -75.0 - Temperature: 0.007653644955129026\n",
      "EPISODE: 539 - FINAL SCORE: -84.0 - Temperature: 0.007561814803412336\n",
      "EPISODE: 540 - FINAL SCORE: -118.0 - Temperature: 0.00747108645048743\n",
      "Updating target network...\n",
      "EPISODE: 541 - FINAL SCORE: -87.0 - Temperature: 0.007381446676724864\n",
      "EPISODE: 542 - FINAL SCORE: -70.0 - Temperature: 0.007292882421107278\n",
      "EPISODE: 543 - FINAL SCORE: -92.0 - Temperature: 0.00720538077932633\n",
      "EPISODE: 544 - FINAL SCORE: -82.0 - Temperature: 0.00711892900190247\n",
      "EPISODE: 545 - FINAL SCORE: -64.0 - Temperature: 0.00703351449232727\n",
      "EPISODE: 546 - FINAL SCORE: -99.0 - Temperature: 0.006949124805228038\n",
      "EPISODE: 547 - FINAL SCORE: -72.0 - Temperature: 0.006865747644554462\n",
      "EPISODE: 548 - FINAL SCORE: -87.0 - Temperature: 0.006783370861787\n",
      "EPISODE: 549 - FINAL SCORE: -93.0 - Temperature: 0.006701982454166781\n",
      "EPISODE: 550 - FINAL SCORE: -64.0 - Temperature: 0.006621570562946729\n",
      "Updating target network...\n",
      "EPISODE: 551 - FINAL SCORE: -97.0 - Temperature: 0.0065421234716636825\n",
      "EPISODE: 552 - FINAL SCORE: -94.0 - Temperature: 0.006463629604431235\n",
      "EPISODE: 553 - FINAL SCORE: -91.0 - Temperature: 0.006386077524253065\n",
      "EPISODE: 554 - FINAL SCORE: -85.0 - Temperature: 0.006309455931356506\n",
      "EPISODE: 555 - FINAL SCORE: -87.0 - Temperature: 0.006233753661546099\n",
      "EPISODE: 556 - FINAL SCORE: -92.0 - Temperature: 0.006158959684576912\n",
      "EPISODE: 557 - FINAL SCORE: -85.0 - Temperature: 0.0060850631025473716\n",
      "EPISODE: 558 - FINAL SCORE: -150.0 - Temperature: 0.006012053148311373\n",
      "EPISODE: 559 - FINAL SCORE: -72.0 - Temperature: 0.0059399191839094485\n",
      "EPISODE: 560 - FINAL SCORE: -86.0 - Temperature: 0.005868650699018764\n",
      "Updating target network...\n",
      "EPISODE: 561 - FINAL SCORE: -73.0 - Temperature: 0.0057982373094216935\n",
      "EPISODE: 562 - FINAL SCORE: -85.0 - Temperature: 0.005728668755492791\n",
      "EPISODE: 563 - FINAL SCORE: -82.0 - Temperature: 0.0056599349007039\n",
      "EPISODE: 564 - FINAL SCORE: -92.0 - Temperature: 0.005592025730147207\n",
      "EPISODE: 565 - FINAL SCORE: -85.0 - Temperature: 0.005524931349076013\n",
      "EPISODE: 566 - FINAL SCORE: -67.0 - Temperature: 0.005458641981463011\n",
      "EPISODE: 567 - FINAL SCORE: -79.0 - Temperature: 0.005393147968575867\n",
      "EPISODE: 568 - FINAL SCORE: -62.0 - Temperature: 0.0053284397675698895\n",
      "EPISODE: 569 - FINAL SCORE: -91.0 - Temperature: 0.005264507950097577\n",
      "EPISODE: 570 - FINAL SCORE: -113.0 - Temperature: 0.005201343200934866\n",
      "Updating target network...\n",
      "EPISODE: 571 - FINAL SCORE: -120.0 - Temperature: 0.005138936316623837\n",
      "EPISODE: 572 - FINAL SCORE: -111.0 - Temperature: 0.005077278204131733\n",
      "EPISODE: 573 - FINAL SCORE: -95.0 - Temperature: 0.005016359879526041\n",
      "EPISODE: 574 - FINAL SCORE: -83.0 - Temperature: 0.0049561724666654944\n",
      "EPISODE: 575 - FINAL SCORE: -157.0 - Temperature: 0.004896707195906759\n",
      "EPISODE: 576 - FINAL SCORE: -81.0 - Temperature: 0.0048379554028266545\n",
      "EPISODE: 577 - FINAL SCORE: -108.0 - Temperature: 0.004779908526959696\n",
      "EPISODE: 578 - FINAL SCORE: -86.0 - Temperature: 0.004722558110550785\n",
      "EPISODE: 579 - FINAL SCORE: -86.0 - Temperature: 0.0046658957973228716\n",
      "EPISODE: 580 - FINAL SCORE: -77.0 - Temperature: 0.0046099133312593925\n",
      "Updating target network...\n",
      "EPISODE: 581 - FINAL SCORE: -85.0 - Temperature: 0.004554602555401329\n",
      "EPISODE: 582 - FINAL SCORE: -96.0 - Temperature: 0.004499955410658687\n",
      "EPISODE: 583 - FINAL SCORE: -114.0 - Temperature: 0.004445963934636246\n",
      "EPISODE: 584 - FINAL SCORE: -166.0 - Temperature: 0.004392620260473391\n",
      "EPISODE: 585 - FINAL SCORE: -95.0 - Temperature: 0.00433991661569787\n",
      "EPISODE: 586 - FINAL SCORE: -94.0 - Temperature: 0.004287845321093298\n",
      "EPISODE: 587 - FINAL SCORE: -92.0 - Temperature: 0.004236398789580254\n",
      "EPISODE: 588 - FINAL SCORE: -92.0 - Temperature: 0.0041855695251107996\n",
      "EPISODE: 589 - FINAL SCORE: -96.0 - Temperature: 0.004135350121576266\n",
      "EPISODE: 590 - FINAL SCORE: -96.0 - Temperature: 0.004085733261728136\n",
      "Updating target network...\n",
      "EPISODE: 591 - FINAL SCORE: -124.0 - Temperature: 0.004036711716111889\n",
      "EPISODE: 592 - FINAL SCORE: -109.0 - Temperature: 0.003988278342013618\n",
      "EPISODE: 593 - FINAL SCORE: -104.0 - Temperature: 0.003940426082419311\n",
      "EPISODE: 594 - FINAL SCORE: -96.0 - Temperature: 0.0038931479649865867\n",
      "EPISODE: 595 - FINAL SCORE: -71.0 - Temperature: 0.0038464371010287993\n",
      "EPISODE: 596 - FINAL SCORE: -96.0 - Temperature: 0.0038002866845113104\n",
      "EPISODE: 597 - FINAL SCORE: -70.0 - Temperature: 0.0037546899910598165\n",
      "EPISODE: 598 - FINAL SCORE: -64.0 - Temperature: 0.0037096403769805667\n",
      "EPISODE: 599 - FINAL SCORE: -78.0 - Temperature: 0.00366513127829234\n",
      "EPISODE: 600 - FINAL SCORE: -72.0 - Temperature: 0.003621156209770038\n",
      "Updating target network...\n",
      "EPISODE: 601 - FINAL SCORE: -91.0 - Temperature: 0.0035777087639997486\n",
      "EPISODE: 602 - FINAL SCORE: -81.0 - Temperature: 0.003534782610445153\n",
      "EPISODE: 603 - FINAL SCORE: -63.0 - Temperature: 0.003492371494525127\n",
      "EPISODE: 604 - FINAL SCORE: -69.0 - Temperature: 0.0034504692367024192\n",
      "EPISODE: 605 - FINAL SCORE: -110.0 - Temperature: 0.0034090697315832517\n",
      "EPISODE: 606 - FINAL SCORE: -86.0 - Temperature: 0.003368166947027734\n",
      "EPISODE: 607 - FINAL SCORE: -127.0 - Temperature: 0.0033277549232709454\n",
      "EPISODE: 608 - FINAL SCORE: -64.0 - Temperature: 0.003287827772054564\n",
      "EPISODE: 609 - FINAL SCORE: -80.0 - Temperature: 0.003248379675768913\n",
      "EPISODE: 610 - FINAL SCORE: -80.0 - Temperature: 0.0032094048866053043\n",
      "Updating target network...\n",
      "EPISODE: 611 - FINAL SCORE: -125.0 - Temperature: 0.0031708977257185497\n",
      "EPISODE: 612 - FINAL SCORE: -78.0 - Temperature: 0.0031328525823995216\n",
      "EPISODE: 613 - FINAL SCORE: -90.0 - Temperature: 0.00309526391325764\n",
      "EPISODE: 614 - FINAL SCORE: -64.0 - Temperature: 0.0030581262414131733\n",
      "EPISODE: 615 - FINAL SCORE: -119.0 - Temperature: 0.0030214341556992195\n",
      "EPISODE: 616 - FINAL SCORE: -82.0 - Temperature: 0.0029851823098732758\n",
      "EPISODE: 617 - FINAL SCORE: -98.0 - Temperature: 0.002949365421838257\n",
      "EPISODE: 618 - FINAL SCORE: -80.0 - Temperature: 0.0029139782728728656\n",
      "EPISODE: 619 - FINAL SCORE: -94.0 - Temperature: 0.002879015706871195\n",
      "EPISODE: 620 - FINAL SCORE: -65.0 - Temperature: 0.002844472629591455\n",
      "Updating target network...\n",
      "EPISODE: 621 - FINAL SCORE: -500.0 - Temperature: 0.0028103440079137133\n",
      "EPISODE: 622 - FINAL SCORE: -64.0 - Temperature: 0.002776624869106541\n",
      "EPISODE: 623 - FINAL SCORE: -75.0 - Temperature: 0.00274331030010246\n",
      "EPISODE: 624 - FINAL SCORE: -77.0 - Temperature: 0.0027103954467820757\n",
      "EPISODE: 625 - FINAL SCORE: -103.0 - Temperature: 0.0026778755132668124\n",
      "EPISODE: 626 - FINAL SCORE: -112.0 - Temperature: 0.002645745761220122\n",
      "EPISODE: 627 - FINAL SCORE: -95.0 - Temperature: 0.0026140015091570814\n",
      "EPISODE: 628 - FINAL SCORE: -92.0 - Temperature: 0.0025826381317622773\n",
      "EPISODE: 629 - FINAL SCORE: -107.0 - Temperature: 0.0025516510592158686\n",
      "EPISODE: 630 - FINAL SCORE: -109.0 - Temperature: 0.0025210357765277397\n",
      "Updating target network...\n",
      "EPISODE: 631 - FINAL SCORE: -83.0 - Temperature: 0.0024907878228796415\n",
      "EPISODE: 632 - FINAL SCORE: -100.0 - Temperature: 0.002460902790975223\n",
      "EPISODE: 633 - FINAL SCORE: -93.0 - Temperature: 0.0024313763263978665\n",
      "EPISODE: 634 - FINAL SCORE: -95.0 - Temperature: 0.0024022041269762223\n",
      "EPISODE: 635 - FINAL SCORE: -81.0 - Temperature: 0.00237338194215736\n",
      "EPISODE: 636 - FINAL SCORE: -106.0 - Temperature: 0.0023449055723874365\n",
      "EPISODE: 637 - FINAL SCORE: -102.0 - Temperature: 0.002316770868499801\n",
      "EPISODE: 638 - FINAL SCORE: -119.0 - Temperature: 0.0022889737311104353\n",
      "EPISODE: 639 - FINAL SCORE: -79.0 - Temperature: 0.0022615101100206527\n",
      "EPISODE: 640 - FINAL SCORE: -92.0 - Temperature: 0.0022343760036269596\n",
      "Updating target network...\n",
      "EPISODE: 641 - FINAL SCORE: -102.0 - Temperature: 0.0022075674583379996\n",
      "EPISODE: 642 - FINAL SCORE: -95.0 - Temperature: 0.002181080567998495\n",
      "EPISODE: 643 - FINAL SCORE: -102.0 - Temperature: 0.0021549114733200956\n",
      "EPISODE: 644 - FINAL SCORE: -91.0 - Temperature: 0.00212905636131906\n",
      "EPISODE: 645 - FINAL SCORE: -80.0 - Temperature: 0.0021035114647606832\n",
      "EPISODE: 646 - FINAL SCORE: -63.0 - Temperature: 0.002078273061610388\n",
      "EPISODE: 647 - FINAL SCORE: -85.0 - Temperature: 0.002053337474491404\n",
      "EPISODE: 648 - FINAL SCORE: -63.0 - Temperature: 0.0020287010701489543\n",
      "EPISODE: 649 - FINAL SCORE: -71.0 - Temperature: 0.002004360258920868\n",
      "EPISODE: 650 - FINAL SCORE: -101.0 - Temperature: 0.0019803114942145484\n",
      "Updating target network...\n",
      "EPISODE: 651 - FINAL SCORE: -87.0 - Temperature: 0.0019565512719902133\n",
      "EPISODE: 652 - FINAL SCORE: -74.0 - Temperature: 0.0019330761302503371\n",
      "EPISODE: 653 - FINAL SCORE: -84.0 - Temperature: 0.0019098826485352176\n",
      "EPISODE: 654 - FINAL SCORE: -87.0 - Temperature: 0.0018869674474245978\n",
      "EPISODE: 655 - FINAL SCORE: -81.0 - Temperature: 0.0018643271880452634\n",
      "EPISODE: 656 - FINAL SCORE: -107.0 - Temperature: 0.0018419585715845513\n",
      "EPISODE: 657 - FINAL SCORE: -92.0 - Temperature: 0.0018198583388096933\n",
      "EPISODE: 658 - FINAL SCORE: -100.0 - Temperature: 0.0017980232695929295\n",
      "EPISODE: 659 - FINAL SCORE: -63.0 - Temperature: 0.0017764501824423153\n",
      "EPISODE: 660 - FINAL SCORE: -82.0 - Temperature: 0.0017551359340381612\n",
      "Updating target network...\n",
      "EPISODE: 661 - FINAL SCORE: -113.0 - Temperature: 0.0017340774187750345\n",
      "EPISODE: 662 - FINAL SCORE: -64.0 - Temperature: 0.0017132715683092529\n",
      "EPISODE: 663 - FINAL SCORE: -95.0 - Temperature: 0.0016927153511118122\n",
      "EPISODE: 664 - FINAL SCORE: -95.0 - Temperature: 0.0016724057720266731\n",
      "EPISODE: 665 - FINAL SCORE: -108.0 - Temperature: 0.0016523398718343524\n",
      "EPISODE: 666 - FINAL SCORE: -92.0 - Temperature: 0.0016325147268207469\n",
      "EPISODE: 667 - FINAL SCORE: -71.0 - Temperature: 0.0016129274483511313\n",
      "EPISODE: 668 - FINAL SCORE: -88.0 - Temperature: 0.0015935751824492697\n",
      "EPISODE: 669 - FINAL SCORE: -72.0 - Temperature: 0.001574455109381574\n",
      "EPISODE: 670 - FINAL SCORE: -93.0 - Temperature: 0.0015555644432462528\n",
      "Updating target network...\n",
      "EPISODE: 671 - FINAL SCORE: -83.0 - Temperature: 0.0015369004315673907\n",
      "EPISODE: 672 - FINAL SCORE: -71.0 - Temperature: 0.0015184603548938965\n",
      "EPISODE: 673 - FINAL SCORE: -74.0 - Temperature: 0.001500241526403265\n",
      "EPISODE: 674 - FINAL SCORE: -63.0 - Temperature: 0.0014822412915100895\n",
      "EPISODE: 675 - FINAL SCORE: -88.0 - Temperature: 0.0014644570274792764\n",
      "EPISODE: 676 - FINAL SCORE: -93.0 - Temperature: 0.0014468861430438971\n",
      "EPISODE: 677 - FINAL SCORE: -91.0 - Temperature: 0.0014295260780276258\n",
      "EPISODE: 678 - FINAL SCORE: -71.0 - Temperature: 0.001412374302971707\n",
      "EPISODE: 679 - FINAL SCORE: -129.0 - Temperature: 0.0013954283187663996\n",
      "EPISODE: 680 - FINAL SCORE: -75.0 - Temperature: 0.0013786856562868432\n",
      "Updating target network...\n",
      "EPISODE: 681 - FINAL SCORE: -106.0 - Temperature: 0.001362143876033292\n",
      "EPISODE: 682 - FINAL SCORE: -71.0 - Temperature: 0.0013458005677756662\n",
      "EPISODE: 683 - FINAL SCORE: -76.0 - Temperature: 0.0013296533502023678\n",
      "EPISODE: 684 - FINAL SCORE: -71.0 - Temperature: 0.0013136998705733105\n",
      "EPISODE: 685 - FINAL SCORE: -78.0 - Temperature: 0.001297937804377112\n",
      "EPISODE: 686 - FINAL SCORE: -65.0 - Temperature: 0.0012823648549924005\n",
      "EPISODE: 687 - FINAL SCORE: -82.0 - Temperature: 0.0012669787533531826\n",
      "EPISODE: 688 - FINAL SCORE: -80.0 - Temperature: 0.0012517772576182283\n",
      "EPISODE: 689 - FINAL SCORE: -70.0 - Temperature: 0.0012367581528444239\n",
      "EPISODE: 690 - FINAL SCORE: -72.0 - Temperature: 0.001221919250664039\n",
      "Updating target network...\n",
      "EPISODE: 691 - FINAL SCORE: -62.0 - Temperature: 0.0012072583889658716\n",
      "EPISODE: 692 - FINAL SCORE: -85.0 - Temperature: 0.0011927734315802158\n",
      "EPISODE: 693 - FINAL SCORE: -75.0 - Temperature: 0.0011784622679676098\n",
      "EPISODE: 694 - FINAL SCORE: -66.0 - Temperature: 0.001164322812911318\n",
      "EPISODE: 695 - FINAL SCORE: -95.0 - Temperature: 0.0011503530062135043\n",
      "EPISODE: 696 - FINAL SCORE: -87.0 - Temperature: 0.0011365508123950489\n",
      "EPISODE: 697 - FINAL SCORE: -103.0 - Temperature: 0.001122914220398967\n",
      "EPISODE: 698 - FINAL SCORE: -71.0 - Temperature: 0.0011094412432973884\n",
      "EPISODE: 699 - FINAL SCORE: -87.0 - Temperature: 0.0010961299180020495\n",
      "EPISODE: 700 - FINAL SCORE: -63.0 - Temperature: 0.0010829783049782606\n",
      "Updating target network...\n",
      "EPISODE: 701 - FINAL SCORE: -79.0 - Temperature: 0.001069984487962305\n",
      "EPISODE: 702 - FINAL SCORE: -104.0 - Temperature: 0.001057146573682229\n",
      "EPISODE: 703 - FINAL SCORE: -85.0 - Temperature: 0.0010444626915819804\n",
      "EPISODE: 704 - FINAL SCORE: -96.0 - Temperature: 0.0010319309935488596\n",
      "EPISODE: 705 - FINAL SCORE: -70.0 - Temperature: 0.001019549653644238\n",
      "EPISODE: 706 - FINAL SCORE: -72.0 - Temperature: 0.0010073168678375083\n",
      "EPISODE: 707 - FINAL SCORE: -85.0 - Temperature: 0.000995230853743229\n",
      "EPISODE: 708 - FINAL SCORE: -63.0 - Temperature: 0.0009832898503614185\n",
      "EPISODE: 709 - FINAL SCORE: -74.0 - Temperature: 0.0009714921178209695\n",
      "EPISODE: 710 - FINAL SCORE: -96.0 - Temperature: 0.0009598359371261381\n",
      "Updating target network...\n",
      "EPISODE: 711 - FINAL SCORE: -71.0 - Temperature: 0.0009483196099060785\n",
      "EPISODE: 712 - FINAL SCORE: -70.0 - Temperature: 0.0009369414581673793\n",
      "EPISODE: 713 - FINAL SCORE: -64.0 - Temperature: 0.0009256998240495713\n",
      "EPISODE: 714 - FINAL SCORE: -82.0 - Temperature: 0.0009145930695835676\n",
      "EPISODE: 715 - FINAL SCORE: -97.0 - Temperature: 0.0009036195764530027\n",
      "EPISODE: 716 - FINAL SCORE: -71.0 - Temperature: 0.0008927777457584337\n",
      "EPISODE: 717 - FINAL SCORE: -73.0 - Temperature: 0.0008820659977843733\n",
      "EPISODE: 718 - FINAL SCORE: -71.0 - Temperature: 0.000871482771769115\n",
      "EPISODE: 719 - FINAL SCORE: -71.0 - Temperature: 0.0008610265256773219\n",
      "EPISODE: 720 - FINAL SCORE: -72.0 - Temperature: 0.0008506957359753439\n",
      "Updating target network...\n",
      "EPISODE: 721 - FINAL SCORE: -72.0 - Temperature: 0.0008404888974092295\n",
      "EPISODE: 722 - FINAL SCORE: -79.0 - Temperature: 0.0008304045227854028\n",
      "EPISODE: 723 - FINAL SCORE: -71.0 - Temperature: 0.00082044114275397\n",
      "EPISODE: 724 - FINAL SCORE: -91.0 - Temperature: 0.0008105973055946278\n",
      "EPISODE: 725 - FINAL SCORE: -63.0 - Temperature: 0.000800871577005139\n",
      "EPISODE: 726 - FINAL SCORE: -71.0 - Temperature: 0.0007912625398923471\n",
      "EPISODE: 727 - FINAL SCORE: -76.0 - Temperature: 0.0007817687941656978\n",
      "EPISODE: 728 - FINAL SCORE: -90.0 - Temperature: 0.0007723889565332373\n",
      "EPISODE: 729 - FINAL SCORE: -63.0 - Temperature: 0.0007631216603000601\n",
      "EPISODE: 730 - FINAL SCORE: -70.0 - Temperature: 0.0007539655551691728\n",
      "Updating target network...\n",
      "EPISODE: 731 - FINAL SCORE: -77.0 - Temperature: 0.0007449193070447487\n",
      "EPISODE: 732 - FINAL SCORE: -77.0 - Temperature: 0.0007359815978377429\n",
      "EPISODE: 733 - FINAL SCORE: -107.0 - Temperature: 0.0007271511252738385\n",
      "EPISODE: 734 - FINAL SCORE: -71.0 - Temperature: 0.0007184266027036989\n",
      "EPISODE: 735 - FINAL SCORE: -101.0 - Temperature: 0.000709806758915495\n",
      "EPISODE: 736 - FINAL SCORE: -95.0 - Temperature: 0.000701290337949683\n",
      "EPISODE: 737 - FINAL SCORE: -76.0 - Temperature: 0.0006928760989160039\n",
      "EPISODE: 738 - FINAL SCORE: -96.0 - Temperature: 0.0006845628158126786\n",
      "EPISODE: 739 - FINAL SCORE: -76.0 - Temperature: 0.000676349277347773\n",
      "EPISODE: 740 - FINAL SCORE: -84.0 - Temperature: 0.0006682342867627058\n",
      "Updating target network...\n",
      "EPISODE: 741 - FINAL SCORE: -75.0 - Temperature: 0.0006602166616578738\n",
      "EPISODE: 742 - FINAL SCORE: -76.0 - Temperature: 0.0006522952338203701\n",
      "EPISODE: 743 - FINAL SCORE: -71.0 - Temperature: 0.0006444688490537685\n",
      "EPISODE: 744 - FINAL SCORE: -84.0 - Temperature: 0.0006367363670099512\n",
      "EPISODE: 745 - FINAL SCORE: -89.0 - Temperature: 0.000629096661022953\n",
      "EPISODE: 746 - FINAL SCORE: -89.0 - Temperature: 0.0006215486179448001\n",
      "EPISODE: 747 - FINAL SCORE: -71.0 - Temperature: 0.0006140911379833186\n",
      "EPISODE: 748 - FINAL SCORE: -95.0 - Temperature: 0.0006067231345418874\n",
      "EPISODE: 749 - FINAL SCORE: -75.0 - Temperature: 0.0005994435340611164\n",
      "EPISODE: 750 - FINAL SCORE: -94.0 - Temperature: 0.0005922512758624222\n",
      "Updating target network...\n",
      "EPISODE: 751 - FINAL SCORE: -63.0 - Temperature: 0.0005851453119934812\n",
      "EPISODE: 752 - FINAL SCORE: -79.0 - Temperature: 0.0005781246070755373\n",
      "EPISODE: 753 - FINAL SCORE: -71.0 - Temperature: 0.0005711881381525412\n",
      "EPISODE: 754 - FINAL SCORE: -65.0 - Temperature: 0.0005643348945421002\n",
      "EPISODE: 755 - FINAL SCORE: -71.0 - Temperature: 0.0005575638776882161\n",
      "EPISODE: 756 - FINAL SCORE: -72.0 - Temperature: 0.0005508741010157899\n",
      "EPISODE: 757 - FINAL SCORE: -70.0 - Temperature: 0.0005442645897868722\n",
      "EPISODE: 758 - FINAL SCORE: -77.0 - Temperature: 0.0005377343809586384\n",
      "EPISODE: 759 - FINAL SCORE: -97.0 - Temperature: 0.0005312825230430683\n",
      "EPISODE: 760 - FINAL SCORE: -82.0 - Temperature: 0.0005249080759683087\n",
      "Updating target network...\n",
      "EPISODE: 761 - FINAL SCORE: -79.0 - Temperature: 0.0005186101109416997\n",
      "EPISODE: 762 - FINAL SCORE: -75.0 - Temperature: 0.0005123877103144441\n",
      "EPISODE: 763 - FINAL SCORE: -64.0 - Temperature: 0.0005062399674479018\n",
      "EPISODE: 764 - FINAL SCORE: -77.0 - Temperature: 0.000500165986581486\n",
      "EPISODE: 765 - FINAL SCORE: -71.0 - Temperature: 0.0004941648827021473\n",
      "EPISODE: 766 - FINAL SCORE: -70.0 - Temperature: 0.00048823578141542147\n",
      "EPISODE: 767 - FINAL SCORE: -70.0 - Temperature: 0.0004823778188180254\n",
      "EPISODE: 768 - FINAL SCORE: -63.0 - Temperature: 0.00047659014137198187\n",
      "EPISODE: 769 - FINAL SCORE: -109.0 - Temperature: 0.0004708719057802539\n",
      "EPISODE: 770 - FINAL SCORE: -64.0 - Temperature: 0.00046522227886387193\n",
      "Updating target network...\n",
      "EPISODE: 771 - FINAL SCORE: -79.0 - Temperature: 0.00045964043744053495\n",
      "EPISODE: 772 - FINAL SCORE: -63.0 - Temperature: 0.0004541255682046679\n",
      "EPISODE: 773 - FINAL SCORE: -91.0 - Temperature: 0.0004486768676089189\n",
      "EPISODE: 774 - FINAL SCORE: -63.0 - Temperature: 0.00044329354174707774\n",
      "EPISODE: 775 - FINAL SCORE: -87.0 - Temperature: 0.0004379748062383992\n",
      "EPISODE: 776 - FINAL SCORE: -72.0 - Temperature: 0.0004327198861133146\n",
      "EPISODE: 777 - FINAL SCORE: -78.0 - Temperature: 0.000427528015700514\n",
      "EPISODE: 778 - FINAL SCORE: -112.0 - Temperature: 0.0004223984385153842\n",
      "EPISODE: 779 - FINAL SCORE: -81.0 - Temperature: 0.00041733040714978415\n",
      "EPISODE: 780 - FINAL SCORE: -107.0 - Temperature: 0.00041232318316314364\n",
      "Updating target network...\n",
      "EPISODE: 781 - FINAL SCORE: -68.0 - Temperature: 0.00040737603697486814\n",
      "EPISODE: 782 - FINAL SCORE: -67.0 - Temperature: 0.0004024882477580354\n",
      "EPISODE: 783 - FINAL SCORE: -75.0 - Temperature: 0.00039765910333436626\n",
      "EPISODE: 784 - FINAL SCORE: -63.0 - Temperature: 0.0003928879000704565\n",
      "EPISODE: 785 - FINAL SCORE: -95.0 - Temperature: 0.0003881739427752538\n",
      "EPISODE: 786 - FINAL SCORE: -63.0 - Temperature: 0.0003835165445987642\n",
      "EPISODE: 787 - FINAL SCORE: -86.0 - Temperature: 0.0003789150269319741\n",
      "EPISODE: 788 - FINAL SCORE: -88.0 - Temperature: 0.00037436871930797346\n",
      "EPISODE: 789 - FINAL SCORE: -71.0 - Temperature: 0.0003698769593042649\n",
      "EPISODE: 790 - FINAL SCORE: -63.0 - Temperature: 0.00036543909244624495\n",
      "Updating target network...\n",
      "EPISODE: 791 - FINAL SCORE: -64.0 - Temperature: 0.00036105447211184346\n",
      "EPISODE: 792 - FINAL SCORE: -64.0 - Temperature: 0.0003567224594373071\n",
      "EPISODE: 793 - FINAL SCORE: -65.0 - Temperature: 0.00035244242322411354\n",
      "EPISODE: 794 - FINAL SCORE: -90.0 - Temperature: 0.0003482137398470019\n",
      "EPISODE: 795 - FINAL SCORE: -78.0 - Temperature: 0.0003440357931631076\n",
      "EPISODE: 796 - FINAL SCORE: -63.0 - Temperature: 0.0003399079744221862\n",
      "EPISODE: 797 - FINAL SCORE: -72.0 - Temperature: 0.00033582968217791577\n",
      "EPISODE: 798 - FINAL SCORE: -64.0 - Temperature: 0.0003318003222002624\n",
      "EPISODE: 799 - FINAL SCORE: -63.0 - Temperature: 0.0003278193073888975\n",
      "EPISODE: 800 - FINAL SCORE: -77.0 - Temperature: 0.00032388605768765436\n"
     ]
    }
   ],
   "source": [
    "# Initialize the Gym environment\n",
    "env = gym.make('Acrobot-v1') \n",
    "env.seed(0) # Set a random seed for the environment (reproducible results)\n",
    "\n",
    "plotting_rewards=[]\n",
    "\n",
    "for episode_num, tau in enumerate(tqdm(exploration_profile)):\n",
    "\n",
    "    # Reset the environment and get the initial state\n",
    "    state = env.reset()\n",
    "    # Reset the score. The final score will be the total amount of steps before the pole falls\n",
    "    score = 0\n",
    "    done = False\n",
    "\n",
    "    # Go on until the pole falls off\n",
    "    while not done:\n",
    "\n",
    "      # Choose the action following the policy\n",
    "      action, q_values = choose_action_softmax(policy_net, state, temperature=tau)\n",
    "      \n",
    "      # Apply the action and get the next state, the reward and a flag \"done\" that is True if the game is ended\n",
    "      next_state, reward, done, info = env.step(action)\n",
    "\n",
    "      # Update the final score (+1 for each step)\n",
    "      score += reward\n",
    "\n",
    "      # Apply penalty for bad state\n",
    "      if done: # if the pole has fallen down \n",
    "          reward += bad_state_penalty\n",
    "          next_state = None\n",
    "      \n",
    "      # Update the replay memory\n",
    "      replay_mem.push(state, action, next_state, reward)\n",
    "\n",
    "      # Update the network\n",
    "      if len(replay_mem) > min_samples_for_training: # we enable the training only if we have enough samples in the replay memory, otherwise the training will use the same samples too often\n",
    "          update_step(policy_net, target_net, replay_mem, gamma, optimizer, loss_fn, batch_size)\n",
    "\n",
    "      # Visually render the environment (disable to speed up the training)\n",
    "      env.render()\n",
    "\n",
    "      # Set the current state for the next iteration\n",
    "      state = next_state\n",
    "\n",
    "    # Update the target network every target_net_update_steps episodes\n",
    "    if episode_num % target_net_update_steps == 0:\n",
    "        print('Updating target network...')\n",
    "        target_net.load_state_dict(policy_net.state_dict()) # This will copy the weights of the policy network to the target network\n",
    "    \n",
    "    plotting_rewards.append(score)\n",
    "    # Print the final score\n",
    "    print(f\"EPISODE: {episode_num + 1} - FINAL SCORE: {score} - Temperature: {tau}\") # Print the final score\n",
    "\n",
    "env.close()"
   ]
  },
  {
   "cell_type": "markdown",
   "metadata": {},
   "source": [
    "## Plotting results\n",
    "In the beginning, the accumulated reward remains -500. After 200 episodes, the score increases exponentially, remaining constant at around -100. Instead of taking a random action, the optimal action is chosen with the temperature parameter set equal to 0. In this way, the softmax policy will always select the action with the highest Q-value.\n",
    "The cumulative reward scores remain small at the final test results."
   ]
  },
  {
   "cell_type": "code",
   "execution_count": 11,
   "metadata": {
    "colab": {
     "base_uri": "https://localhost:8080/",
     "height": 530
    },
    "id": "o2dahKoK2n1L",
    "outputId": "597f5a43-8597-4b08-8f43-20fb1f973c70"
   },
   "outputs": [
    {
     "data": {
      "image/png": "[encoded data removed]",
      "text/plain": [
       "<Figure size 720x576 with 1 Axes>"
      ]
     },
     "metadata": {
      "needs_background": "light"
     },
     "output_type": "display_data"
    }
   ],
   "source": [
    "plt.figure(figsize=(10,8))\n",
    "plt.plot(range(1,801),plotting_rewards)\n",
    "plt.xlabel('Training episodes')\n",
    "plt.ylabel('Acc. Episodic Reward')\n",
    "plt.ylim([-500,-40])\n",
    "plt.grid()\n",
    "plt.title('Acrobot v1')\n",
    "plt.show()"
   ]
  },
  {
   "cell_type": "code",
   "execution_count": null,
   "metadata": {
    "colab": {
     "base_uri": "https://localhost:8080/"
    },
    "id": "Qixr08nZ2p7J",
    "outputId": "c9ca0da7-ba34-42c6-97f7-56a79d5f8877"
   },
   "outputs": [
    {
     "name": "stdout",
     "output_type": "stream",
     "text": [
      "EPISODE 1 - FINAL SCORE: -82.0\n",
      "EPISODE 2 - FINAL SCORE: -107.0\n",
      "EPISODE 3 - FINAL SCORE: -74.0\n",
      "EPISODE 4 - FINAL SCORE: -90.0\n",
      "EPISODE 5 - FINAL SCORE: -87.0\n",
      "EPISODE 6 - FINAL SCORE: -92.0\n",
      "EPISODE 7 - FINAL SCORE: -71.0\n",
      "EPISODE 8 - FINAL SCORE: -74.0\n",
      "EPISODE 9 - FINAL SCORE: -72.0\n",
      "EPISODE 10 - FINAL SCORE: -92.0\n"
     ]
    }
   ],
   "source": [
    "# Initialize the Gym environment\n",
    "env = gym.make('Acrobot-v1') \n",
    "env.seed(1) # Set a random seed for the environment (reproducible results)\n",
    "\n",
    "plotting_rewards2=[]\n",
    "# Let's try for a total of 10 episodes\n",
    "for num_episode in range(10): \n",
    "    # Reset the environment and get the initial state\n",
    "    state = env.reset()\n",
    "    # Reset the score. The final score will be the total amount of steps before the pole falls\n",
    "    score = 0\n",
    "    done = False\n",
    "    # Go on until the pole falls off or the score reach 490\n",
    "    while not done:\n",
    "      # Choose the best action (temperature 0)\n",
    "      action, q_values = choose_action_softmax(policy_net, state, temperature=0)\n",
    "      # Apply the action and get the next state, the reward and a flag \"done\" that is True if the game is ended\n",
    "      next_state, reward, done, info = env.step(action)\n",
    "      # Visually render the environment\n",
    "      env.render()\n",
    "      # Update the final score (+1 for each step)\n",
    "      score += reward \n",
    "      # Set the current state for the next iteration\n",
    "      state = next_state\n",
    "      # s_shot = env.render(mode='rgb_array')\n",
    "      # s_shot = np.ascontiguousarray(s_shot, dtype=np.float32);\n",
    "      # plt.imshow(s_shot)\n",
    "      # plt.yticks([]);\n",
    "      # plt.xticks([]); \n",
    "      # Check if the episode ended (the pole fell down)\n",
    "    # Print the final score\n",
    "    plotting_rewards2.append(score)\n",
    "    print(f\"EPISODE {num_episode + 1} - FINAL SCORE: {score}\") \n",
    "env.close()"
   ]
  }
 ],
 "metadata": {
  "colab": {
   "collapsed_sections": [],
   "name": "nndl_2020_lab_07_deep_reinforcement_learning_with_solutions.ipynb",
   "provenance": [],
   "toc_visible": true
  },
  "kernelspec": {
   "display_name": "Python 3",
   "language": "python",
   "name": "python3"
  },
  "language_info": {
   "codemirror_mode": {
    "name": "ipython",
    "version": 3
   },
   "file_extension": ".py",
   "mimetype": "text/x-python",
   "name": "python",
   "nbconvert_exporter": "python",
   "pygments_lexer": "ipython3",
   "version": "3.8.6"
  }
 },
 "nbformat": 4,
 "nbformat_minor": 1
}
